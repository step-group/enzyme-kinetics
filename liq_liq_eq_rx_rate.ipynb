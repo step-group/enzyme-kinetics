{
 "cells": [
  {
   "cell_type": "markdown",
   "id": "a599b361",
   "metadata": {},
   "source": [
    "# Reaction rate for biphasic liquid-liquid equilibrium systems\n",
    "## Context\n",
    "### When working with mixtures that present liquid-liquid equilibrium, it becomes harder to determine the kinetic reaction rate of the reaction present in the system, which is why this code's goal is to determine the molar fraction in each phase, to be able to work with the main reaction rate formula\n",
    "$$\n",
    "V_i=\\frac{k_r^{int}[E]a_{component1}a_{component_2}}{Km_{component_2}^{int}a_{component_1}+Km_{component1}^{int}a_{component_2}+a_{component_1}a_{componen_2}}\n",
    "$$\n",
    "### Where the reaction will have different parameters, depending on the phase that it is ocurring,since the activity terms depend on the molar fraction of each component\n",
    "$$\n",
    "a_i=x_i\\gamma_i\n",
    "$$\n",
    "### Once the parameters are determined, this code can predict each component's behaviour during the reaction via an ode system, allowing to visualize with a graph how each component's quantity changes in function of time"
   ]
  },
  {
   "cell_type": "markdown",
   "id": "a8bf0b46",
   "metadata": {},
   "source": [
    "## Libraries to import"
   ]
  },
  {
   "cell_type": "code",
   "execution_count": 1,
   "id": "88b0a126",
   "metadata": {},
   "outputs": [
    {
     "name": "stdout",
     "output_type": "stream",
     "text": [
      "Set parameter Username\n",
      "Academic license - for non-commercial use only - expires 2025-11-19\n",
      "Set parameter Username\n",
      "Academic license - for non-commercial use only - expires 2025-11-19\n",
      "Set parameter Username\n",
      "Academic license - for non-commercial use only - expires 2025-11-19\n",
      "Set parameter Username\n",
      "Academic license - for non-commercial use only - expires 2025-11-19\n",
      "Set parameter Username\n",
      "Academic license - for non-commercial use only - expires 2025-11-19\n",
      "Set parameter Username\n",
      "Academic license - for non-commercial use only - expires 2025-11-19\n"
     ]
    }
   ],
   "source": [
    "#this code will predict the kinetic reaction rate of a chemical reaction in liquid-liquid equilibrium using thermodynamic activities\n",
    "import numpy as np\n",
    "import matplotlib.pyplot as plt\n",
    "from scipy.stats import norm\n",
    "from scipy.optimize import least_squares\n",
    "from thermo.unifac import UNIFAC, UFSG, UFIP\n",
    "from thermo.chemical import Chemical\n",
    "from ugropy import Groups\n",
    "import phasepy\n",
    "from phasepy import mixture, component, virialgamma,unifac\n",
    "from phasepy.equilibrium import lle\n",
    "from thermo.unifac import UNIFAC_group_assignment_DDBST\n",
    "import pubchempy as pcp\n",
    "import math\n",
    "from thermo.unifac import DOUFSG, DOUFIP2016, PSRKSG, PSRKIP\n",
    "from scipy.integrate import solve_ivp\n",
    "import re"
   ]
  },
  {
   "cell_type": "markdown",
   "id": "336b6122",
   "metadata": {},
   "source": [
    "## Data insertion\n",
    "### Here you insert the experimental data you want to simulate to predict it's biphasic behaviour and determine the kinetic parameters, it is important to consider the following things:\n",
    "1. Temperatures in phasepy and thermo are read in Kelvin\n",
    "2. Pressures in phasepy are read in Bars, but in Pascals when working with thermo\n",
    "3. All components, substrates, products and solvents must be handed in a single list"
   ]
  },
  {
   "cell_type": "code",
   "execution_count": 2,
   "id": "53fbfd99",
   "metadata": {},
   "outputs": [],
   "source": [
    "T=30+273.15   #temperature in Kelvin\n",
    "P=1.01325   #pressure in bar\n",
    "components_present=[['acetic acid','hydrogen peroxide','water','toluene']]\n",
    "components_initial_quantities=[[[0.6005,'mass'],[1.799,'mass'],[5.397,'mass'],[37.548,'mass']]]    #components initial load, must be in 'g' or 'mole' units\n"
   ]
  },
  {
   "cell_type": "markdown",
   "id": "3f57fc6a",
   "metadata": {},
   "source": [
    "## Molar fractions determination\n",
    "### This code determines the global molar fraction of each component in the system, being able to recieve quantities in mass(g) or moles\n",
    "### It is important to note that when working in biphasic systems in equilibrium they are three different molar fractions, as an example, take the following molar fractions of a component \"i\"\n",
    "$$\n",
    "Z_i=0.5\n",
    "$$\n",
    "$$\n",
    "X_i^I=0.05\n",
    "$$\n",
    "$$\n",
    "X_i^{II}=0.75\n",
    "$$\n",
    "### In this case, the former component represents 50% of the moles present in the system, however, one can see that once distributed in the biphasic system, it is mostly concentrated in the second phase(75% of the moles present in it) in comparison to the first equilibrium phase(only 5%)\n",
    "### This function helps to determine the global molar fraction, in other words, the concentrations one has before any reaction or biphasic distribution ocurrs(initial conditions)"
   ]
  },
  {
   "cell_type": "code",
   "execution_count": 3,
   "id": "17bfb0f7",
   "metadata": {},
   "outputs": [],
   "source": [
    "def get_molar_fractions_zi(components,components_initial_values,T,P):\n",
    "    components_moles=[]\n",
    "    for i in range(len(components_initial_values)):\n",
    "        if components_initial_values[i][1]=='moles':\n",
    "            components_moles.append(components_initial_values[i][0])\n",
    "        elif components_initial_values[i][1]=='mass':\n",
    "            component=Chemical(components[i],T=T,P=P*100000)\n",
    "            component_molar_mass=component.MW\n",
    "            components_moles.append(components_initial_values[i][0]/component_molar_mass)\n",
    "        else:\n",
    "            raise ValueError(\"invalid unit for component initial values. Use 'mass' or 'moles'\")\n",
    "    total_moles=sum(components_moles)\n",
    "    molar_fraction_zi=[moles/total_moles for moles in components_moles]\n",
    "    return molar_fraction_zi"
   ]
  },
  {
   "cell_type": "markdown",
   "id": "e4d9a162",
   "metadata": {},
   "source": [
    "## Component properties \n",
    "### This code uses the phasepy library to predict the phases distributions in equilibrium, this library requires that each component is defined as an object with the following structure\n",
    "$$\n",
    "component_i=component(name,T_c,P_c,Z_c,V_c,w,GC)\n",
    "$$\n",
    "### Where the name corresponds to the component's name. $T_c$, $P_c$, $Z_c$, $V_c$, and $w$ correspond to the critical temperature, critical pressure, critical fluid compresibility, critical volume and the acentric factor of the component, respectively\n",
    "### The last input that phasepy requires to define a component class is it's chemical subgroups, this is specifically the chemical subgroups fragmentation of the component based on the UNIFAC(or dortmund) fragmentation guidelines\n",
    "### To obtain all this characteristics the thermo and pubchempy libraries will be used, where one must specify the pressure and temperature of operation to obtain the most precise data possible, it is crutial to note that not all components have their subgroup fragmentation correctly documented in the DDBST databanks\n",
    "### To learn more about the libraries being used feel free to read their documentation\n",
    "[PhasePy](https://github.com/gustavochm/phasepy/tree/master)\n",
    "###\n",
    "[thermo](https://thermo.readthedocs.io/index.html#)\n",
    "###\n",
    "[PubChempy](https://pubchempy.readthedocs.io/en/latest/)"
   ]
  },
  {
   "cell_type": "code",
   "execution_count": 4,
   "id": "0224ec95",
   "metadata": {},
   "outputs": [],
   "source": [
    "def get_components_properties_alternative(components,T,P):\n",
    "    #this function will return a list containing the properties of each component that are needed to define a component using phasepy\n",
    "    components_properties=[]\n",
    "    for i in range(len(components)):\n",
    "        component=Chemical(components[i],T=T,P=P*100000)\n",
    "        properties=[component.Tc,component.Pc/100000,component.Zc,component.Vc*1000000,component.omega]\n",
    "        component_name=components[i]\n",
    "        compound = pcp.get_compounds(component_name, 'name')[0]\n",
    "        synonyms = compound.synonyms\n",
    "        cas_pattern = r'^\\d{2,7}-\\d{2}-\\d$'\n",
    "        cas_numbers = [syn for syn in synonyms if re.match(cas_pattern, syn)]\n",
    "        if len(cas_numbers)>0:\n",
    "           cas_to_use=cas_numbers[0]\n",
    "        else:\n",
    "            cas_to_use=None\n",
    "        subgroups_example = UNIFAC_group_assignment_DDBST(CAS=cas_to_use, model=\"UNIFAC\")\n",
    "        subgroups_named = {str(UFSG[idx])[1:-1]: count for idx, count in subgroups_example.items()}\n",
    "        properties.append(subgroups_named)\n",
    "        components_properties.append(properties)\n",
    "    return components_properties"
   ]
  },
  {
   "cell_type": "markdown",
   "id": "436fe311",
   "metadata": {},
   "source": [
    "## Components setup\n",
    "### This function recieves the properties obtained from the previous function to define the components as the phasepy object"
   ]
  },
  {
   "cell_type": "code",
   "execution_count": 5,
   "id": "d319bb15",
   "metadata": {},
   "outputs": [],
   "source": [
    "#Now that we have the functions to facilitate obtaining the properties needed to define the liquid-liquid equilibrium, we can start defining our system\n",
    "def set_components(components,components_properties):\n",
    "    mixtures_to_use=[]\n",
    "    for i in range(len(components)):\n",
    "        component_to_add=component(name=components[i],Tc=components_properties[i][0],Pc=components_properties[i][1],Zc=components_properties[i][2],Vc=components_properties[i][3],w=components_properties[i][4],GC=components_properties[i][5])\n",
    "        mixtures_to_use.append(component_to_add)\n",
    "    return mixtures_to_use"
   ]
  },
  {
   "cell_type": "markdown",
   "id": "422f6496",
   "metadata": {},
   "source": [
    "## Example\n",
    "### The following code shows the basic procedure to follow to obtain the molar fraction of each component in each phase using the functions that were defined above"
   ]
  },
  {
   "cell_type": "code",
   "execution_count": 6,
   "id": "665d058f",
   "metadata": {},
   "outputs": [
    {
     "name": "stdout",
     "output_type": "stream",
     "text": [
      "aqueous phase molar fractions: [1.89599649e-02 1.47259444e-01 8.33309659e-01 4.70932677e-04]\n",
      "organic phase molar fractions: [7.77954968e-03 1.90881825e-04 1.78974836e-03 9.90239820e-01]\n"
     ]
    }
   ],
   "source": [
    "#Now we will define our mixture\n",
    "for j in range(len(components_present)):\n",
    "    components_to_evaluate=components_present[j]\n",
    "    components_initial_values_to_evaluate=components_initial_quantities[j]\n",
    "    experiment_molar_fractions=get_molar_fractions_zi(components_to_evaluate,components_initial_values_to_evaluate,T,P)\n",
    "    component_properties=get_components_properties_alternative(components_to_evaluate,T,P)\n",
    "    component_properties[1][5]={'OH':2}\n",
    "    mixture_to_use=set_components(components_to_evaluate,component_properties)\n",
    "    #now we can define the mixture using phasepy\n",
    "    mix=mixture(mixture_to_use[0],mixture_to_use[1])\n",
    "    for i in range(2,len(mixture_to_use)):\n",
    "       mix.add_component(mixture_to_use[i])\n",
    "    #now we define the unifac model to be used\n",
    "    mix.original_unifac()\n",
    "    eos=virialgamma(mix, actmodel='original_unifac')\n",
    "    T=T\n",
    "    P=P\n",
    "    Z=np.array(experiment_molar_fractions)\n",
    "    x0=np.array([0.02,0.1,0.85,0.03])\n",
    "    w0=np.array([0.05,0.2,0.35,0.4])\n",
    "    test=lle(x0,w0,Z,T,P,eos,full_output=True)\n",
    "    phase_molar_fractions=test['X']\n",
    "    aqueous_phase_molar_fractions=phase_molar_fractions[0]\n",
    "    organic_phase_molar_fractions=phase_molar_fractions[1]\n",
    "    print(\"aqueous phase molar fractions:\",aqueous_phase_molar_fractions)\n",
    "    print(\"organic phase molar fractions:\",organic_phase_molar_fractions)\n",
    "    \n",
    "    "
   ]
  },
  {
   "cell_type": "markdown",
   "id": "87f5272f",
   "metadata": {},
   "source": [
    "## Activity coefficients \n",
    "### The kinetic reaction formula requires the activity of each substrate, where the activity is given by the following formula:\n",
    "$$\n",
    "a_i=x_i \\gamma_i\n",
    "$$\n",
    "### Where $x_i$ is the molar fraction of the component i and $\\gamma_i$ is it's activity coefficient\n",
    "### The function requires the chemical subgroups and molar fractions of each component to determine the activity coefficients\n",
    "### The function uses the original UNIFAC, modified UNIFAC(more commonly known as Dortmund) and PSRK from the thermo library\n",
    "### It is important to note that when working with a biphasic system, each component has 3 different molar phases, so choose carefully which one you need\n"
   ]
  },
  {
   "cell_type": "code",
   "execution_count": 7,
   "id": "ecbb2a8a",
   "metadata": {},
   "outputs": [],
   "source": [
    "#this is the most crucial function of the code, it uses the thermo library to obtain the chemical subgroups present in each component and then uses the UNIFAC model of ones choosing to calculate the activity coefficients of each component in each experiment\n",
    "def get_activity_coefficients(components_present,molar_fractions,chemical_subgroups,T,P,model_to_use):\n",
    "    #This function will return a list of activity coefficients for each component in each experiment\n",
    "    activity_coefficients=[]\n",
    "    #now that we have the chemical subgroups of each component and the molar fractions of each component in each experiment, we can get the activity coefficients for each one\n",
    "    if model_to_use==\"UNIFAC\":\n",
    "        model=UNIFAC.from_subgroups(T=T,xs=molar_fractions,chemgroups=chemical_subgroups,subgroups=UFSG,interaction_data=UFIP,version=0)\n",
    "    elif model_to_use==\"MODIFIED_UNIFAC\":\n",
    "        model=UNIFAC.from_subgroups(T=T,xs=molar_fractions,chemgroups=chemical_subgroups,subgroups=DOUFSG,interaction_data=DOUFIP2016,version=1)\n",
    "    elif model_to_use==\"PSRK\":\n",
    "        model=UNIFAC.from_subgroups(T=T,xs=molar_fractions,chemgroups=chemical_subgroups,subgroups=PSRKSG,interaction_data=PSRKIP,version=2)\n",
    "    else:\n",
    "        raise ValueError(\"Model not recognized, please use 'UNIFAC','MODIFIED_UNIFAC' OR 'PSRK'\")\n",
    "           \n",
    "    activity_coeffs=model.gammas()\n",
    "    #we append the activity coefficients of each component of the experiment in the list\n",
    "    activity_coefficients.append(activity_coeffs)  #we append the experiment number and the corresponding activity coefficients of each component\n",
    "    return activity_coefficients"
   ]
  },
  {
   "cell_type": "markdown",
   "id": "53fc6bbd",
   "metadata": {},
   "source": [
    "## Initial reaction rate \n",
    "### This function calculates the initial reaction rate for a single phase of the biphasic system where if the following assumptions can be made\n",
    "1. The energy of desolvation of the active site must be independent of the solvent\n",
    "2. all the enzyme states must have the same shape, volume and solubility in the media\n",
    "3. the solvent does not interact with the active site and the reaction mechanism remains constant with the solvent change\n",
    "### We can apply the following formula to determine the initial reaction rate\n",
    "$$\n",
    "V_o=\\frac{K_r^{int}[E]a_{component_1}a_{component_2}}{Km_{component_2}a_{component_1}(a+\\frac{a_{component_1}}{K_{iA}^{int}})+Km_{component_1}a_{component_2}+a_{component_1}a_{componen_2}}\n",
    "$$\n",
    "### It is important to note that this function must be applied to the reacting phase\n",
    "### For more information on how this system works, feel free to read the following paper\n",
    "[Elucidating solvent effects on lipase‐catalyzed peroxyacid\n",
    "synthesis through activity‐based kinetics and molecular\n",
    "dynamics](https://analyticalsciencejournals.onlinelibrary.wiley.com/doi/full/10.1002/bit.28762?casa_token=daiZSBAC6FwAAAAA%3AwvqFil9lK9enE9js6coXp8uFrkrIoMWNyHg79GG1CKOLF7yqSduKELJmrKbuWP4zw2g1KiQRHCocGA)"
   ]
  },
  {
   "cell_type": "code",
   "execution_count": 8,
   "id": "4f30bae5",
   "metadata": {},
   "outputs": [],
   "source": [
    "#This function determines the intial reaction rate of each experiment\n",
    "def initial_reaction_rate(components_present,mole_fractions,activity_coeffs,params,E):\n",
    "    #this function will return a list of initial reaction rates for the different experiments and plot the results\n",
    "    #Comment to teach:This part would require to use a python solver to find the correct kinetic parameters from the reaction rate equation, will have preedetermined values as stand-ins for now\n",
    "    #first we define the kinetic equation\n",
    "    actv_first_component=mole_fractions[0]*activity_coeffs[0]  #activity of the first component in the i experiment\n",
    "    actv_second_component=mole_fractions[1]*activity_coeffs[1]  #activity of the second component in the i experiment\n",
    "    kr_int=params[0]  #intrinsic kinetic rate constant\n",
    "    kmB_int=params[1] #rate constant for the second component\n",
    "    kiA_int=params[2] #inhibitory constant for the first component\n",
    "    kmA_int=params[3] #rate constant for the first component\n",
    "    initial_rate_rx=(kr_int*E*actv_first_component*actv_second_component)/(kmB_int*actv_first_component*(1+actv_first_component/kiA_int)+kmA_int*actv_second_component+actv_first_component*actv_second_component)\n",
    "    #we append the initial reaction rate of the i experiment\n",
    "    #\n",
    "    return initial_rate_rx"
   ]
  },
  {
   "cell_type": "markdown",
   "id": "73332fcb",
   "metadata": {},
   "source": [
    "## System optimization\n",
    "### The initial reaction rate equation usually contains constants that remain the same regardless of the components and solvent used. In order to obtain constants that best adjust to the systems that you desire to predict, this code will use a standard least squares method from the SciPy library, to learn other more complex methods of optimization feel free to view the library documentation\n",
    "### This system's goal is to compare the initial reaction rates obtained experimentally with the ones predicted with the code, minimizing the square error between this two cases\n",
    "### [SciPy](https://docs.scipy.org/doc/scipy/)"
   ]
  },
  {
   "cell_type": "code",
   "execution_count": 14,
   "id": "0cf80ff6",
   "metadata": {},
   "outputs": [],
   "source": [
    "#This objective function will be used to optimize the model parameters\n",
    "def objective_function(params,experimental_data,components_used,components_data,chemical_subgroups,T,P,E):\n",
    "    #this function will return the sum of squared differences between the experimental initial reaction rates and the calculated ones\n",
    "    calculated_data=[]\n",
    "    for i in range(len(components_data)):\n",
    "        molar_fractions_to_use=components_data[i]\n",
    "        activity_coeffs=get_activity_coefficients(components_used,molar_fractions_to_use,chemical_subgroups,T,P,'MODIFIED_UNIFAC')\n",
    "        activity_coeffs=activity_coeffs[0]\n",
    "        calculated_initial_rx_rate=initial_reaction_rate(components_used,molar_fractions_to_use,activity_coeffs,params,E)\n",
    "        calculated_data.append(calculated_initial_rx_rate)\n",
    "\n",
    "    #now that we have the calculated data, we can calculate the sum of squared differences\n",
    "    residuals = [calc - exp for calc, exp in zip(calculated_data, experimental_data)]    #with this we put the elements in calculated_data and experimental_data into pairs and calculate the difference between them\n",
    "    return np.array(residuals)  # least_squares will minimize the sum of squares of these\n",
    "#now that we defined our objective function, we can use least_squares to optimize the model parameters"
   ]
  },
  {
   "cell_type": "code",
   "execution_count": 15,
   "id": "1173d475",
   "metadata": {},
   "outputs": [],
   "source": [
    "#This function is in charge of optimizing the model parameters\n",
    "def optimize_model_parameters(experimental_data,components_used,components_data,chemical_subgroups,T,P,E,initial_params):\n",
    "    #this function will return the optimized model parameters\n",
    "    bounds=([0, 0, 0, 0], [1, 1, 1, 1.5])   #bounds for the parameters\n",
    "    result=least_squares(objective_function,initial_params, args=(experimental_data,components_used,components_data,chemical_subgroups,T,P,E), bounds=bounds)\n",
    "    return result.x  #optimized parameters"
   ]
  },
  {
   "cell_type": "markdown",
   "id": "0c3b6409",
   "metadata": {},
   "source": [
    "## Example\n",
    "### The following code shows an example on how to optimize the model parameters using a set of experimental data"
   ]
  },
  {
   "cell_type": "code",
   "execution_count": 11,
   "id": "3b9ffc07",
   "metadata": {},
   "outputs": [],
   "source": [
    "components_for_optimization=['acetic acid','hydrogen peroxide','water','peracetic acid','hexane']\n",
    "experiment_masses=[[[0.0447,'mass'],[1.799,'mass'],[5.397,'mass'],[0,'mass'],[34.323,'mass']],[[0.0944,'mass'],[1.799,'mass'],[5.397,'mass'],[0,'mass'],[34.292,'mass']],[[1.2010,'mass'],[1.799,'mass'],[5.397,'mass'],[0,'mass'],[33.595,'mass']],[[0.0447,'mass'],[3.6,'mass'],[10.8,'mass'],[0,'mass'],[33.250,'mass']],[[0.0944,'mass'],[3.6,'mass'],[10.8,'mass'],[0,'mass'],[33.218,'mass']],[[0.6005,'mass'],[3.6,'mass'],[10.8,'mass'],[0,'mass'],[32.900,'mass']],[[1.2010,'mass'],[3.6,'mass'],[10.8,'mass'],[0,'mass'],[32.522,'mass']]]\n",
    "experimental_initial_rx=[0.0201,0.0923,0.16237,0.05546,0.10678,0.175,0.1728]\n",
    "initial_params=[0.1,0.5,0,1]\n",
    "E=0.5   #This is the enzyme concentration\n",
    "#now we need to define the molar fractions of each experiment and the chemical subgroups of each component\n",
    "molar_fractions_to_optimize=[]\n",
    "for j in range(len(experiment_masses)):\n",
    "    components_initial_values_to_evaluate=experiment_masses[j]\n",
    "    experiment_molar_fractions=get_molar_fractions_zi(components_for_optimization,components_initial_values_to_evaluate,T,P)\n",
    "    component_properties=get_components_properties_alternative(components_for_optimization,T,P)\n",
    "    component_properties[1][5]={'OH':2}\n",
    "    component_properties[3][5]={'CH3':1,'CH3CO':1,'C2H5O2':1}\n",
    "    mixture_to_use=set_components(components_for_optimization,component_properties)\n",
    "    #now we can define the mixture using phasepy\n",
    "    mix=mixture(mixture_to_use[0],mixture_to_use[1])\n",
    "    for i in range(2,len(mixture_to_use)):\n",
    "       mix.add_component(mixture_to_use[i])\n",
    "    #now we define the unifac model to be used\n",
    "    mix.original_unifac()\n",
    "    eos=virialgamma(mix, actmodel='original_unifac')\n",
    "    T=T\n",
    "    P=P\n",
    "    Z=np.array(experiment_molar_fractions)\n",
    "    x0=np.array([0.02,0.1,0.85,0.03,0])\n",
    "    w0=np.array([0.05,0.2,0.35,0.4,0])\n",
    "    test=lle(x0,w0,Z,T,P,eos,full_output=True)\n",
    "    phase_molar_fractions=test['X']\n",
    "    reaction_phase_molar_fractions=phase_molar_fractions[1]\n",
    "    molar_fractions_to_optimize.append(reaction_phase_molar_fractions)\n",
    "\n",
    "    "
   ]
  },
  {
   "cell_type": "code",
   "execution_count": 12,
   "id": "703266b0",
   "metadata": {},
   "outputs": [
    {
     "name": "stdout",
     "output_type": "stream",
     "text": [
      "[{1: 1, 42: 1}, {14: 2}, {16: 1}, {1: 1, 18: 1, 100: 1}, {1: 2, 2: 4}]\n",
      "[9.17477583e-04 1.55938723e-05 7.39226715e-04 0.00000000e+00\n",
      " 9.98327702e-01]\n"
     ]
    }
   ],
   "source": [
    "subgroups=[]\n",
    "for i in range(len(component_properties)):\n",
    "    subgroups.append(component_properties[i][5])    #We append the subgroups of each component in the system\n",
    "subgroup_dict = UFSG     #we define the UNIFAC library subgroup dictionary\n",
    "name_to_index = {str(v)[1:-1]: k for k, v in subgroup_dict.items()}   #we strip the > and < from the subgroup names and create a dictionary with the index of each subgroup name in the UNIFAC library\n",
    "indexed_subgroups = []\n",
    "for group_dict in subgroups:\n",
    "    indexed_group_dict = {}\n",
    "    for group_name, count in group_dict.items():\n",
    "        if group_name in name_to_index:\n",
    "            index = name_to_index[group_name]\n",
    "            indexed_group_dict[index] = count\n",
    "        else:\n",
    "            raise ValueError(f\"Group name '{group_name}' not found in the subgroup dictionary.\")\n",
    "    indexed_subgroups.append(indexed_group_dict)\n",
    "print(indexed_subgroups)\n",
    "print(molar_fractions_to_optimize[1])"
   ]
  },
  {
   "cell_type": "code",
   "execution_count": 21,
   "id": "db4df37a",
   "metadata": {},
   "outputs": [
    {
     "name": "stdout",
     "output_type": "stream",
     "text": [
      "Optimized Params:  [0.76359388 0.62033347 0.06915162 0.02452441]\n"
     ]
    }
   ],
   "source": [
    "#now we can optimize the model parameters\n",
    "optimized_params=optimize_model_parameters(experimental_initial_rx,components_for_optimization,molar_fractions_to_optimize,indexed_subgroups,T,P,E,initial_params)\n",
    "print(\"Optimized Params: \",optimized_params)"
   ]
  },
  {
   "cell_type": "markdown",
   "id": "39e795d1",
   "metadata": {},
   "source": [
    "## ODE system\n",
    "### Once the parameters for the kinetic reaction are obtained, we can predict how each component's quantity in moles will change in function of time\n",
    "### To predict this, we will assume that the statements mentioned above remain acceptable during the system's reaction, allowing us to determine the following equation to describe the component's mole change during the course of the reaction\n",
    "$$\n",
    "\\frac{dS}{dt}=-r=\\frac{K_r^{int}[E]a_{component_1}a_{component_2}}{Km_{component_2}a_{component_1}(a+\\frac{a_{component_1}}{K_{iA}^{int}})+Km_{component_1}a_{component_2}+a_{component_1}a_{componen_2}}\n",
    "$$\n",
    "$$\n",
    "\\frac{dP}{dt}=r=\\frac{K_r^{int}[E]a_{component_1}a_{component_2}}{Km_{component_2}a_{component_1}(a+\\frac{a_{component_1}}{K_{iA}^{int}})+Km_{component_1}a_{component_2}+a_{component_1}a_{componen_2}}\n",
    "$$\n",
    "### Where S corresponds to substrates and P to products"
   ]
  },
  {
   "cell_type": "code",
   "execution_count": 22,
   "id": "5b8e98d4",
   "metadata": {},
   "outputs": [],
   "source": [
    "#this is the most crucial function of the code, it uses the thermo library to obtain the chemical subgroups present in each component and then uses the UNIFAC model of ones choosing to calculate the activity coefficients of each component in each experiment\n",
    "def get_activity_coefficients_alternative(components_present,molar_fractions,chemical_subgroups,T,P,model_to_use):\n",
    "    #This function will return a list of activity coefficients for each component in each experiment\n",
    "    activity_coefficients=[]\n",
    "    if model_to_use==\"UNIFAC\":\n",
    "        model=UNIFAC.from_subgroups(T=T,xs=molar_fractions,chemgroups=chemical_subgroups,subgroups=UFSG,interaction_data=UFIP,version=0)\n",
    "    elif model_to_use==\"MODIFIED_UNIFAC\":\n",
    "        model=UNIFAC.from_subgroups(T=T,xs=molar_fractions,chemgroups=chemical_subgroups,subgroups=DOUFSG,interaction_data=DOUFIP2016,version=1)\n",
    "    elif model_to_use==\"PSRK\":\n",
    "        model=UNIFAC.from_subgroups(T=T,xs=molar_fractions,chemgroups=chemical_subgroups,subgroups=PSRKSG,interaction_data=PSRKIP,version=2)\n",
    "    else:\n",
    "        raise ValueError(\"Model not recognized, please use 'UNIFAC','MODIFIED_UNIFAC' OR 'PSRK'\")\n",
    "           \n",
    "    activity_coeffs=model.gammas()\n",
    "        #we append the activity coefficients of each component of the experiment in the list\n",
    "    activity_coefficients.append(activity_coeffs)  #we append the experiment number and the corresponding activity coefficients of each component\n",
    "    return activity_coefficients"
   ]
  },
  {
   "cell_type": "markdown",
   "id": "0ddeaaa5",
   "metadata": {},
   "source": [
    "## ODE system accomodations\n",
    "### The following function defines the ODE  system that solve_ivp will solve(click in the bottom link to view how scipy.integrate library works), since activities depend on the molar fraction of each component, this must be calculated with each evaluated time instance, since when the mole quantities change, so do the molar fractions\n",
    "[scipy.integrate](https://docs.scipy.org/doc/scipy/reference/integrate.html)"
   ]
  },
  {
   "cell_type": "code",
   "execution_count": 23,
   "id": "c1d577d9",
   "metadata": {},
   "outputs": [],
   "source": [
    "#now we will define the ODE system to obtain the change of product in function of time\n",
    "#for this system we will assume that the total mole count remains constant, so the equations will be molar fraction as a function of time\n",
    "def reaction_ode(t,S,params,T,P,components_names):\n",
    "    #S corresponds to a vector containing the global moles of each component present in the system\n",
    "    S_copy=[[float(S[i]),'moles'] for i in range(len(S))]\n",
    "    components_molar_fractions=get_molar_fractions_zi(components_names,S_copy,T,P)\n",
    "    component_properties=get_components_properties_alternative(components_names,T,P)\n",
    "    component_properties[1][5]={'OH':2}\n",
    "    component_properties[3][5]={'CH3':1,'CH3CO':1,'C2H5O2':1}\n",
    "    mixture_to_use=set_components(components_names,component_properties)\n",
    "    #now we can define the mixture using phasepy\n",
    "    mix=mixture(mixture_to_use[0],mixture_to_use[1])\n",
    "    for i in range(2,len(mixture_to_use)):\n",
    "       mix.add_component(mixture_to_use[i])\n",
    "    #now we define the unifac model to be used\n",
    "    mix.original_unifac()\n",
    "    eos=virialgamma(mix, actmodel='original_unifac')\n",
    "    T=T\n",
    "    P=P\n",
    "    Z=np.array(components_molar_fractions)\n",
    "    x0=np.array([0.02,0.1,0.85,0,0.03])\n",
    "    w0=np.array([0.05,0.2,0.35,0,0.4])\n",
    "    test=lle(x0,w0,Z,T,P,eos,full_output=True)\n",
    "    phase_molar_fractions=test['X']\n",
    "    reaction_phase_molar_fractions=phase_molar_fractions[1]\n",
    "    subgroups=[]\n",
    "    for i in range(len(component_properties)):\n",
    "       subgroups.append(component_properties[i][5])\n",
    "    subgroup_dict = UFSG\n",
    "    name_to_index = {str(v)[1:-1]: k for k, v in subgroup_dict.items()}\n",
    "    indexed_subgroups = []\n",
    "    for group_dict in subgroups:\n",
    "        indexed_group_dict = {}\n",
    "        for group_name, count in group_dict.items():\n",
    "            if group_name in name_to_index:\n",
    "                index = name_to_index[group_name]\n",
    "                indexed_group_dict[index] = count\n",
    "            else:\n",
    "                raise ValueError(f\"Group name '{group_name}' not found in the subgroup dictionary.\")\n",
    "        indexed_subgroups.append(indexed_group_dict)\n",
    "    #now we can calculate the activity coefficients\n",
    "    activity_coeffs=get_activity_coefficients_alternative(components_names,reaction_phase_molar_fractions,indexed_subgroups,T,P,'MODIFIED_UNIFAC')\n",
    "    #now we can define the reaction rate\n",
    "    activity_coeffs=activity_coeffs[0]\n",
    "    actv_first_component=reaction_phase_molar_fractions[0]*activity_coeffs[0]  #activity of the first component in the i experiment\n",
    "    actv_second_component=reaction_phase_molar_fractions[1]*activity_coeffs[1]  #activity of the second component in the i experiment\n",
    "    E=0.5\n",
    "    kr_int,kmB_int,kiA_int,kmA_int=params\n",
    "    rx_rate=(kr_int*E*actv_first_component*actv_second_component)/(kmB_int*actv_first_component*(1+actv_first_component/kiA_int)+kmA_int*actv_second_component+actv_first_component*actv_second_component)\n",
    "    #now we can define the ODE system\n",
    "    dSdt=[-rx_rate, -rx_rate, rx_rate, rx_rate]\n",
    "    if len(S)>4:\n",
    "        dSdt+=[0]*(len(S)-4) #if there are more components, we assume they do not participate in the reaction\n",
    "    return dSdt\n",
    "\n",
    "\n",
    "    \n",
    "\n",
    "    "
   ]
  },
  {
   "cell_type": "code",
   "execution_count": 25,
   "id": "265741e6",
   "metadata": {},
   "outputs": [],
   "source": [
    "#now we define the initial conditions and the time span for the ODE system\n",
    "S0=[0.7443549,52.88,299.5,0,398.2780852]   #in mol\n",
    "component_names=['acetic acid','hydrogen peroxide','water','peracetic acid','hexane']\n",
    "t_eval=np.linspace(0,250,10)\n",
    "solution=solve_ivp(reaction_ode,(0,250),S0,args=(optimized_params,T,P,component_names),t_eval=t_eval)\n"
   ]
  },
  {
   "cell_type": "code",
   "execution_count": 27,
   "id": "6035613c",
   "metadata": {},
   "outputs": [
    {
     "name": "stdout",
     "output_type": "stream",
     "text": [
      "[[ 7.44354900e-01  5.35397049e-02  3.13227562e-03  1.81765812e-04\n",
      "   7.88778907e-06  5.73485303e-06  4.90142165e-06  8.68124581e-07\n",
      "  -2.53221826e-06 -3.95248318e-05]\n",
      " [ 5.28800000e+01  5.21891848e+01  5.21387774e+01  5.21358269e+01\n",
      "   5.21356530e+01  5.21356508e+01  5.21356500e+01  5.21356460e+01\n",
      "   5.21356426e+01  5.21356056e+01]\n",
      " [ 2.99500000e+02  3.00190815e+02  3.00241223e+02  3.00244173e+02\n",
      "   3.00244347e+02  3.00244349e+02  3.00244350e+02  3.00244354e+02\n",
      "   3.00244357e+02  3.00244394e+02]\n",
      " [ 0.00000000e+00  6.90815195e-01  7.41222624e-01  7.44173134e-01\n",
      "   7.44347012e-01  7.44349165e-01  7.44349999e-01  7.44354032e-01\n",
      "   7.44357432e-01  7.44394425e-01]\n",
      " [ 3.98278085e+02  3.98278085e+02  3.98278085e+02  3.98278085e+02\n",
      "   3.98278085e+02  3.98278085e+02  3.98278085e+02  3.98278085e+02\n",
      "   3.98278085e+02  3.98278085e+02]]\n"
     ]
    }
   ],
   "source": [
    "print(solution.y)"
   ]
  },
  {
   "cell_type": "markdown",
   "id": "72720dd8",
   "metadata": {},
   "source": [
    "## Plot"
   ]
  },
  {
   "cell_type": "code",
   "execution_count": 26,
   "id": "6908547c",
   "metadata": {},
   "outputs": [
    {
     "data": {
      "image/png": "[encoded data removed]",
      "text/plain": [
       "<Figure size 640x480 with 1 Axes>"
      ]
     },
     "metadata": {},
     "output_type": "display_data"
    }
   ],
   "source": [
    "times_to_plot=solution.t\n",
    "components_to_plot=solution.y\n",
    "#now that we extracted the time intervals and the components mole quantities, we can plot the results\n",
    "for i in range(len(components_to_plot)):\n",
    "    plt.plot(times_to_plot,components_to_plot[i],label=component_names[i])\n",
    "plt.xlabel('t')\n",
    "plt.ylabel('Component moles')\n",
    "plt.legend()\n",
    "plt.title('Components moles in function of time')\n",
    "plt.show()\n"
   ]
  }
 ],
 "metadata": {
  "kernelspec": {
   "display_name": "Python 3",
   "language": "python",
   "name": "python3"
  },
  "language_info": {
   "codemirror_mode": {
    "name": "ipython",
    "version": 3
   },
   "file_extension": ".py",
   "mimetype": "text/x-python",
   "name": "python",
   "nbconvert_exporter": "python",
   "pygments_lexer": "ipython3",
   "version": "3.11.4"
  }
 },
 "nbformat": 4,
 "nbformat_minor": 5
}
