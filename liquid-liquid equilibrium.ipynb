{
 "cells": [
  {
   "cell_type": "code",
   "execution_count": 1,
   "id": "8256deaf",
   "metadata": {},
   "outputs": [
    {
     "name": "stdout",
     "output_type": "stream",
     "text": [
      "Set parameter Username\n",
      "Academic license - for non-commercial use only - expires 2025-11-19\n",
      "Set parameter Username\n",
      "Academic license - for non-commercial use only - expires 2025-11-19\n",
      "Set parameter Username\n",
      "Academic license - for non-commercial use only - expires 2025-11-19\n",
      "Set parameter Username\n",
      "Academic license - for non-commercial use only - expires 2025-11-19\n",
      "Set parameter Username\n",
      "Academic license - for non-commercial use only - expires 2025-11-19\n",
      "Set parameter Username\n",
      "Academic license - for non-commercial use only - expires 2025-11-19\n"
     ]
    }
   ],
   "source": [
    "#with this code, the goal is to predict the distribution of components within a mixture that is in liquid-liquid equilibrium\n",
    "import numpy as np\n",
    "import matplotlib.pyplot as plt\n",
    "from scipy.stats import norm\n",
    "from scipy.optimize import least_squares\n",
    "from thermo.unifac import UNIFAC, UFSG, UFIP\n",
    "from thermo.chemical import Chemical\n",
    "from ugropy import Groups\n",
    "import phasepy\n",
    "from phasepy import mixture, component, virialgamma,unifac\n",
    "from phasepy.equilibrium import lle\n",
    "from thermo.unifac import UNIFAC_group_assignment_DDBST\n"
   ]
  },
  {
   "cell_type": "code",
   "execution_count": 2,
   "id": "6826dc11",
   "metadata": {},
   "outputs": [],
   "source": [
    "#first we define the system conditions in which we are operating\n",
    "T=25+273.15   #temperature in Kelvin\n",
    "P=1.01325     #pressure in bar\n",
    "#next, we need to define the components in our experiments\n",
    "components=['acetic acid','hydrogen peroxide','water','diisopropyl ether']\n",
    "components_initial_values=[[2.6123,'mass'],[4.125,'mass'],[12.375,'mass'],[17.8883,'mass']]  #list of values of each component, which can be given in 'mass' or 'moles'\n"
   ]
  },
  {
   "cell_type": "code",
   "execution_count": 3,
   "id": "d798b6df",
   "metadata": {},
   "outputs": [],
   "source": [
    "def get_molar_fractions_zi(components,components_initial_values,T,P):\n",
    "    components_moles=[]\n",
    "    for i in range(len(components_initial_values)):\n",
    "        if components_initial_values[i][1]=='moles':\n",
    "            components_moles.append(components_initial_values[i][0])\n",
    "        elif components_initial_values[i][1]=='mass':\n",
    "            component=Chemical(components[i],T=T,P=P)\n",
    "            component_molar_mass=component.MW\n",
    "            components_moles.append(components_initial_values[i][0]/component_molar_mass)\n",
    "        else:\n",
    "            raise ValueError(\"invalid unit for component initial values. Use 'mass' or 'moles'\")\n",
    "    total_moles=sum(components_moles)\n",
    "    molar_fraction_zi=[moles/total_moles for moles in components_moles]\n",
    "    return molar_fraction_zi"
   ]
  },
  {
   "cell_type": "code",
   "execution_count": 4,
   "id": "9cac198c",
   "metadata": {},
   "outputs": [],
   "source": [
    "def get_components_properties(components,T,P):\n",
    "    #this function will return a list containing the properties of each component that are needed to define a component using phasepy\n",
    "    components_properties=[]\n",
    "    for i in range(len(components)):\n",
    "        component=Chemical(components[i],T=T,P=P)\n",
    "        properties=[component.Tc,component.Pc/100000,component.Zc,component.Vc*1000000,component.omega]\n",
    "        component_name=components[i]\n",
    "        component_subgroup_names=Groups(component_name)\n",
    "        sub = component_subgroup_names.unifac.subgroups\n",
    "        properties.append(sub)\n",
    "        components_properties.append(properties)\n",
    "    return components_properties\n",
    "\n"
   ]
  },
  {
   "cell_type": "code",
   "execution_count": 5,
   "id": "14b303dd",
   "metadata": {},
   "outputs": [],
   "source": [
    "#Now that we have the functions to facilitate obtaining the properties needed to define the liquid-liquid equilibrium, we can start defining our system\n",
    "def set_components(components,components_properties):\n",
    "    mixtures_to_use=[]\n",
    "    for i in range(len(components)):\n",
    "        component_to_add=component(name=components[i],Tc=components_properties[i][0],Pc=components_properties[i][1],Zc=components_properties[i][2],Vc=components_properties[i][3],w=components_properties[i][4],GC=components_properties[i][5])\n",
    "        mixtures_to_use.append(component_to_add)\n",
    "    return mixtures_to_use"
   ]
  },
  {
   "cell_type": "code",
   "execution_count": 6,
   "id": "bdf07d32",
   "metadata": {},
   "outputs": [
    {
     "name": "stdout",
     "output_type": "stream",
     "text": [
      "[0.04236674787127407, 0.11811004303736015, 0.6690113035215717, 0.17051190556979423]\n",
      "[[590.7, 57.8, 0.2012439313985603, 171.0, 0.4218, {'CH3': 1, 'COOH': 1}], [728.0, 220.0, 0.28240874135993943, 77.7, 0.3582, {'OH': 2}], [647.096, 220.64, 0.22943845208106295, 55.948037267100005, 0.3443, {'H2O': 1}], [500.3, 28.32, 0.2627942543667121, 386.0, 0.34, {'CH3': 4, 'CH': 1, 'CHO': 1}]]\n",
      "[<phasepy.mixtures.component object at 0x0000017B4E737510>, <phasepy.mixtures.component object at 0x0000017B4B61F010>, <phasepy.mixtures.component object at 0x0000017B50513F10>, <phasepy.mixtures.component object at 0x0000017B56C5C6D0>]\n"
     ]
    }
   ],
   "source": [
    "#Now we will define our mixture\n",
    "experiment_molar_fractions=get_molar_fractions_zi(components,components_initial_values,T,P)\n",
    "component_properties=get_components_properties(components,T,P)\n",
    "component_properties[1][5]={'OH':2}\n",
    "mixture_to_use=set_components(components,component_properties)\n",
    "#now we can define the mixture using phasepy\n",
    "mix=mixture(mixture_to_use[0],mixture_to_use[1])\n",
    "for i in range(2,len(mixture_to_use)):\n",
    "    mix.add_component(mixture_to_use[i])\n",
    "print(experiment_molar_fractions)\n",
    "print(component_properties)\n",
    "print(mixture_to_use)\n",
    "\n"
   ]
  },
  {
   "cell_type": "code",
   "execution_count": 7,
   "id": "211f8e4d",
   "metadata": {},
   "outputs": [
    {
     "data": {
      "text/plain": [
       "           T: 298.15\n",
       "           P: 1.01325\n",
       " error_outer: np.float64(8.928194495626168e-09)\n",
       " error_inner: np.float64(1.5415675458302733e-10)\n",
       "        iter: 15\n",
       "        beta: array([0.8029538, 0.1970462])\n",
       "       tetha: array([0.])\n",
       "           X: array([[0.03648281, 0.14503408, 0.81393171, 0.0045514 ],\n",
       "       [0.0663435 , 0.0083959 , 0.07846759, 0.846793  ]])\n",
       "           v: [None, None]\n",
       "      states: ['L', 'L']"
      ]
     },
     "execution_count": 7,
     "metadata": {},
     "output_type": "execute_result"
    }
   ],
   "source": [
    "#now we define the unifac model to be used\n",
    "mix.original_unifac()\n",
    "eos=virialgamma(mix, actmodel='original_unifac')\n",
    "T=T\n",
    "P=P\n",
    "Z=np.array(experiment_molar_fractions)\n",
    "x0=np.array([0.02,0.1,0.85,0.03])\n",
    "w0=np.array([0.05,0.2,0.35,0.4])\n",
    "lle(x0,w0,Z,T,P,eos,full_output=True)\n",
    "\n"
   ]
  },
  {
   "cell_type": "code",
   "execution_count": 8,
   "id": "bdf614b4",
   "metadata": {},
   "outputs": [],
   "source": [
    "def molar_fraction_to_mass_fraction(components,molar_fractions,T,P):\n",
    "    #this function assumes a calculus base of 1 mole of the mixture\n",
    "    components_mass=[]\n",
    "    for i in range(len(components)):\n",
    "        component=Chemical(components[i],T=T,P=P)\n",
    "        component_molar_mass=component.MW\n",
    "        component_mass=molar_fractions[i]*component_molar_mass\n",
    "        components_mass.append(component_mass)\n",
    "    total_mass=sum(components_mass)\n",
    "    mass_fractions=[mass/total_mass for mass in components_mass]\n",
    "    return mass_fractions\n",
    "        "
   ]
  },
  {
   "cell_type": "code",
   "execution_count": 9,
   "id": "024f5435",
   "metadata": {},
   "outputs": [
    {
     "name": "stdout",
     "output_type": "stream",
     "text": [
      "[0.09845519813479246, 0.2216969081999439, 0.6589495525424633, 0.020898341122800174]\n",
      "[0.04320909796149819, 0.003097300059743869, 0.015331369996393883, 0.938362231982364]\n"
     ]
    }
   ],
   "source": [
    "aquous_phase=molar_fraction_to_mass_fraction(components,[0.03648281, 0.14503408, 0.81393171, 0.0045514],T,P)\n",
    "organic_phase=molar_fraction_to_mass_fraction(components,[0.0663435 , 0.0083959 , 0.07846759, 0.846793],T,P)\n",
    "print(aquous_phase)\n",
    "print(organic_phase)"
   ]
  }
 ],
 "metadata": {
  "kernelspec": {
   "display_name": "Python 3",
   "language": "python",
   "name": "python3"
  },
  "language_info": {
   "codemirror_mode": {
    "name": "ipython",
    "version": 3
   },
   "file_extension": ".py",
   "mimetype": "text/x-python",
   "name": "python",
   "nbconvert_exporter": "python",
   "pygments_lexer": "ipython3",
   "version": "3.11.4"
  }
 },
 "nbformat": 4,
 "nbformat_minor": 5
}
