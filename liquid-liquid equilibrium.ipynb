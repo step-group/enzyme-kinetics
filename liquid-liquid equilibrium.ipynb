{
 "cells": [
  {
   "cell_type": "code",
   "execution_count": 2,
   "id": "8256deaf",
   "metadata": {},
   "outputs": [],
   "source": [
    "#with this code, the goal is to predict the distribution of components within a mixture that is in liquid-liquid equilibrium\n",
    "import numpy as np\n",
    "import matplotlib.pyplot as plt\n",
    "from scipy.stats import norm\n",
    "from scipy.optimize import least_squares\n",
    "from thermo.unifac import UNIFAC, UFSG, UFIP\n",
    "from thermo.chemical import Chemical\n",
    "from ugropy import Groups\n",
    "import phasepy\n",
    "from phasepy import mixture, component, virialgamma, preos"
   ]
  },
  {
   "cell_type": "code",
   "execution_count": null,
   "id": "6826dc11",
   "metadata": {},
   "outputs": [],
   "source": [
    "#first we define the system conditions in which we are operating\n",
    "T=25+273.15   #temperature in Kelvin\n",
    "P=1.01325     #pressure in bar\n",
    "#next, we need to define the components in our experiments\n",
    "components=['acetic acid','hydrogen peroxide','water','diisopropyl ether']\n",
    "components_initial_values=[[2.6123,'mass'],[4.125,'mass'],[12.375,'mass'],[17.8883,'mass']]  #list of values of each component, which can be given in 'mass' or 'moles'\n"
   ]
  },
  {
   "cell_type": "code",
   "execution_count": null,
   "id": "d798b6df",
   "metadata": {},
   "outputs": [],
   "source": [
    "def get_molar_fractions_zi(components,components_initial_values,T,P):\n",
    "    components_moles=[]\n",
    "    for i in range(len(components_initial_values)):\n",
    "        if components_initial_values[i][1]=='moles':\n",
    "            components_moles.append(components_initial_values[i][0])\n",
    "        elif components_initial_values[i][1]=='mass':\n",
    "            component_molar_mass=components[i].MW\n",
    "            components_moles.append(components_initial_values[i][0]/component_molar_mass)\n",
    "        else:\n",
    "            raise ValueError(\"invalid unit for component initial values. Use 'mass' or 'moles'\")\n",
    "    total_moles=sum(components_moles)\n",
    "    molar_fraction_zi=[moles/total_moles for moles in components_moles]\n",
    "    return molar_fraction_zi"
   ]
  },
  {
   "cell_type": "code",
   "execution_count": null,
   "id": "9cac198c",
   "metadata": {},
   "outputs": [],
   "source": [
    "def get_components_properties(components,T,P):\n",
    "    #this function will return a list containing the properties of each component that are needed to define a component using phasepy\n",
    "    components_properties=[]\n",
    "    for i in range(len(components)):\n",
    "        component=Chemical(components[i],T=T,P=P)\n",
    "        properties=[component.Tc,component.Pc/100000,component.Zc,component.Vc*1000000,component.omega,component.Psat.Antoine_AB_low]\n",
    "        component_name=components[i]\n",
    "        component_subgroup_names=Groups(component_name)\n",
    "        sub = component_subgroup_names.unifac.subgroups\n",
    "        properties.append(sub)\n",
    "        components_properties.append(properties)\n",
    "    return components_properties\n",
    "\n"
   ]
  },
  {
   "cell_type": "code",
   "execution_count": null,
   "id": "14b303dd",
   "metadata": {},
   "outputs": [],
   "source": [
    "#Now that we have the functions to facilitate obtaining the properties neede to define the liquid-liquid equilibrium, we can start defining our system\n"
   ]
  }
 ],
 "metadata": {
  "kernelspec": {
   "display_name": "Python 3",
   "language": "python",
   "name": "python3"
  },
  "language_info": {
   "codemirror_mode": {
    "name": "ipython",
    "version": 3
   },
   "file_extension": ".py",
   "mimetype": "text/x-python",
   "name": "python",
   "nbconvert_exporter": "python",
   "pygments_lexer": "ipython3",
   "version": "3.11.4"
  }
 },
 "nbformat": 4,
 "nbformat_minor": 5
}
