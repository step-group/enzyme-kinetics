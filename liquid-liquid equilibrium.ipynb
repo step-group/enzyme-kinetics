{
 "cells": [
  {
   "cell_type": "code",
   "execution_count": 2,
   "id": "8256deaf",
   "metadata": {},
   "outputs": [],
   "source": [
    "#with this code, the goal is to predict the distribution of components within a mixture that is in liquid-liquid equilibrium\n",
    "import numpy as np\n",
    "import matplotlib.pyplot as plt\n",
    "from scipy.stats import norm\n",
    "from scipy.optimize import least_squares\n",
    "from thermo.unifac import UNIFAC, UFSG, UFIP\n",
    "from thermo.chemical import Chemical\n",
    "from ugropy import Groups\n",
    "import phasepy\n",
    "from phasepy import mixture, component, virialgamma, preos"
   ]
  },
  {
   "cell_type": "code",
   "execution_count": null,
   "id": "6826dc11",
   "metadata": {},
   "outputs": [],
   "source": [
    "#first we define the system conditions in which we are operating\n",
    "T=20+273.15   #temperature in Kelvin\n",
    "P=1.01325     #pressure in bar\n",
    "#next, we need to define the components in our experiments\n",
    "components=['acetic acid','hydrogen peroxide','water','diisopropyl ether']\n",
    "components_initial_values=[[2.6123,'mass'],[4.125,'mass'],[12.375,'mass'],[17.8883,'mass']]  #list of values of each component, which can be given in 'mass' or 'moles'\n",
    "\n",
    "\n"
   ]
  },
  {
   "cell_type": "code",
   "execution_count": null,
   "id": "d798b6df",
   "metadata": {},
   "outputs": [],
   "source": []
  }
 ],
 "metadata": {
  "kernelspec": {
   "display_name": "Python 3",
   "language": "python",
   "name": "python3"
  },
  "language_info": {
   "codemirror_mode": {
    "name": "ipython",
    "version": 3
   },
   "file_extension": ".py",
   "mimetype": "text/x-python",
   "name": "python",
   "nbconvert_exporter": "python",
   "pygments_lexer": "ipython3",
   "version": "3.11.4"
  }
 },
 "nbformat": 4,
 "nbformat_minor": 5
}
