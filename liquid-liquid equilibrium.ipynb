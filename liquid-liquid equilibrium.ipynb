{
 "cells": [
  {
   "cell_type": "markdown",
   "id": "403c5db6",
   "metadata": {},
   "source": [
    "# Liquid-liquid equilibrium prediction\n",
    "## Context\n",
    "### When working with enzymatic reactions, liquid-liquid equilibrium mediums are quite common, because of this, it is crutial to determine the components distribution within the two liquid phases\n",
    "### With this distribution deciphered one can predict the kinetic behaviours of the reaction\n",
    "### Due to the high nonideality of the reactive biphasic systems, this code will utilize thermodinamic concepts, such as component activities, to predict the components distribution\n",
    "### For more information on how this reactive systems work and it's limitations, feel free to read the following paper\n",
    "[UNIFAC Evaluation of the Liquid−Liquid Phase Equilibrium during\n",
    "Lipase-Catalyzed Peracidation of Different Carboxylic Acids](https://pubs.acs.org/doi/full/10.1021/acs.jced.1c00917?casa_token=G7Xk2-8GDb4AAAAA%3AkTkUdQLbssaVddo9Q9Dw00xGc0qk1XP3IzxlTVHypDqmJkijm_qWdfIczc9XuNoj6XnncEtlPDxZ1B4)"
   ]
  },
  {
   "cell_type": "markdown",
   "id": "ba1eee1c",
   "metadata": {},
   "source": [
    "## Libraries to import"
   ]
  },
  {
   "cell_type": "code",
   "execution_count": 1,
   "id": "8256deaf",
   "metadata": {},
   "outputs": [
    {
     "name": "stdout",
     "output_type": "stream",
     "text": [
      "Set parameter Username\n",
      "Academic license - for non-commercial use only - expires 2025-11-19\n",
      "Set parameter Username\n",
      "Academic license - for non-commercial use only - expires 2025-11-19\n",
      "Set parameter Username\n",
      "Academic license - for non-commercial use only - expires 2025-11-19\n",
      "Set parameter Username\n",
      "Academic license - for non-commercial use only - expires 2025-11-19\n",
      "Set parameter Username\n",
      "Academic license - for non-commercial use only - expires 2025-11-19\n",
      "Set parameter Username\n",
      "Academic license - for non-commercial use only - expires 2025-11-19\n"
     ]
    }
   ],
   "source": [
    "#with this code, the goal is to predict the distribution of components within a mixture that is in liquid-liquid equilibrium\n",
    "import numpy as np\n",
    "import matplotlib.pyplot as plt\n",
    "from scipy.stats import norm\n",
    "from scipy.optimize import least_squares\n",
    "from thermo.unifac import UNIFAC, UFSG, UFIP\n",
    "from thermo.chemical import Chemical\n",
    "from ugropy import Groups\n",
    "import phasepy\n",
    "from phasepy import mixture, component, virialgamma,unifac\n",
    "from phasepy.equilibrium import lle\n",
    "from thermo.unifac import UNIFAC_group_assignment_DDBST\n",
    "import pubchempy as pcp\n",
    "import math\n",
    "from thermo.unifac import DOUFSG, DOUFIP2016, PSRKSG, PSRKIP\n",
    "import re"
   ]
  },
  {
   "cell_type": "markdown",
   "id": "7825d0d5",
   "metadata": {},
   "source": [
    "## Data insertion\n",
    "### Here you insert the experimental data you want to simulate to predict it's biphasic behaviour, it is important to consider the following things:\n",
    "1. Temperatures in phasepy and thermo are read in Kelvin\n",
    "2. Pressures in phasepy are read in Bars, but in Pascals when working with thermo\n",
    "3. All components, substrates, products and solvents must be handed in a single list\n"
   ]
  },
  {
   "cell_type": "code",
   "execution_count": 10,
   "id": "6826dc11",
   "metadata": {},
   "outputs": [],
   "source": [
    "#first we define the system conditions in which we are operating\n",
    "T=25+273.15   #temperature in Kelvin\n",
    "P=1.01325     #pressure in bar\n",
    "#next, we need to define the components in our experiments\n",
    "components=[['acetic acid','hydrogen peroxide','water','diisopropyl ether'],['acetic acid','hydrogen peroxide','water','toluene'],['acetic acid','hydrogen peroxide','water','heptane'],['lauric acid','hydrogen peroxide','water','diisopropyl ether'],['lauric acid','hydrogen peroxide','water','toluene'],['lauric acid','hydrogen peroxide','water','heptane']]\n",
    "components_initial_values=[[[2.6123,'mass'],[4.125,'mass'],[12.375,'mass'],[17.8883,'mass']],[[0.7502,'mass'],[4.125,'mass'],[12.375,'mass'],[21.5978,'mass']],[[1.0420,'mass'],[4.125,'mass'],[12.375,'mass'],[17.0384,'mass']],[[2.5049,'mass'],[4.125,'mass'],[12.375,'mass'],[17.8883,'mass']],[[2.5081,'mass'],[4.125,'mass'],[12.375,'mass'],[21.6435,'mass']],[[2.5058,'mass'],[4.125,'mass'],[12.375,'mass'],[17.0384,'mass']]] #list of values of each component, which can be given in 'mass' or 'moles'\n"
   ]
  },
  {
   "cell_type": "markdown",
   "id": "443eacd5",
   "metadata": {},
   "source": [
    "## Molar fractions determination\n",
    "### This code determines the global molar fraction of each component in the system, being able to recieve quantities in mass(g) or moles\n",
    "### It is important to note that when working in biphasic systems in equilibrium they are three different molar fractions, as an example, take the following molar fractions of a component \"i\"\n",
    "$$\n",
    "Z_i=0.5\n",
    "$$\n",
    "$$\n",
    "X_i^I=0.05\n",
    "$$\n",
    "$$\n",
    "X_i^{II}=0.75\n",
    "$$\n",
    "### In this case, the former component represents 50% of the moles present in the system, however, one can see that once distributed in the biphasic system, it is mostly concentrated in the second phase(75% of the moles present in it) in comparison to the first equilibrium phase(only 5%)\n",
    "### This function helps to determine the global molar fraction, in other words, the concentrations one has before any reaction or biphasic distribution ocurrs(initial conditions)"
   ]
  },
  {
   "cell_type": "code",
   "execution_count": 2,
   "id": "d798b6df",
   "metadata": {},
   "outputs": [],
   "source": [
    "def get_molar_fractions_zi(components,components_initial_values,T,P):\n",
    "    components_moles=[]\n",
    "    for i in range(len(components_initial_values)):\n",
    "        if components_initial_values[i][1]=='moles':\n",
    "            components_moles.append(components_initial_values[i][0])\n",
    "        elif components_initial_values[i][1]=='mass':\n",
    "            component=Chemical(components[i],T=T,P=P*100000)  #convert pressure to Pa for chemical\n",
    "            component_molar_mass=component.MW\n",
    "            components_moles.append(components_initial_values[i][0]/component_molar_mass)\n",
    "        else:\n",
    "            raise ValueError(\"invalid unit for component initial values. Use 'mass' or 'moles'\")\n",
    "    total_moles=sum(components_moles)\n",
    "    molar_fraction_zi=[moles/total_moles for moles in components_moles]\n",
    "    return molar_fraction_zi"
   ]
  },
  {
   "cell_type": "markdown",
   "id": "30e8430a",
   "metadata": {},
   "source": [
    "## Component properties \n",
    "### This code uses the phasepy library to predict the phases distributions in equilibrium, this library requires that each component is defined as an object with the following structure\n",
    "$$\n",
    "component_i=component(name,T_c,P_c,Z_c,V_c,w,GC)\n",
    "$$\n",
    "### Where the name corresponds to the component's name. $T_c$, $P_c$, $Z_c$, $V_c$, and $w$ correspond to the critical temperature, critical pressure, critical fluid compresibility, critical volume and the acentric factor of the component, respectively\n",
    "### The last input that phasepy requires to define a component class is it's chemical subgroups, this is specifically the chemical subgroups fragmentation of the component based on the UNIFAC(or dortmund) fragmentation guidelines\n",
    "### To obtain all this characteristics the thermo and pubchempy libraries will be used, where one must specify the pressure and temperature of operation to obtain the most precise data possible, it is crutial to note that not all components have their subgroup fragmentation correctly documented in the DDBST databanks\n",
    "### To learn more about the libraries being used feel free to read their documentation\n",
    "[PhasePy](https://github.com/gustavochm/phasepy/tree/master)\n",
    "###\n",
    "[thermo](https://thermo.readthedocs.io/index.html#)\n",
    "###\n",
    "[PubChempy](https://pubchempy.readthedocs.io/en/latest/)"
   ]
  },
  {
   "cell_type": "code",
   "execution_count": 3,
   "id": "9cac198c",
   "metadata": {},
   "outputs": [],
   "source": [
    "def get_components_properties_alternative(components,T,P,model_to_use):\n",
    "    #this function will return a list containing the properties of each component that are needed to define a component using phasepy\n",
    "    components_properties=[]\n",
    "    for i in range(len(components)):\n",
    "        component=Chemical(components[i],T=T,P=P*100000)   #convert pressure to Pa for chemical\n",
    "        properties=[component.Tc,component.Pc/100000,component.Zc,component.Vc*1000000,component.omega]\n",
    "        component_name=components[i]\n",
    "        compound = pcp.get_compounds(component_name, 'name')[0]\n",
    "        synonyms = compound.synonyms\n",
    "        cas_pattern = r'^\\d{2,7}-\\d{2}-\\d$'\n",
    "        cas_numbers = [syn for syn in synonyms if re.match(cas_pattern, syn)]\n",
    "        if len(cas_numbers)>0:\n",
    "           cas_to_use=cas_numbers[0]\n",
    "        else:\n",
    "            cas_to_use=None\n",
    "        if model_to_use==\"UNIFAC\":\n",
    "            subgroups_example = UNIFAC_group_assignment_DDBST(CAS=cas_to_use, model=\"UNIFAC\")\n",
    "            subgroups_named = {str(UFSG[idx])[1:-1]: count for idx, count in subgroups_example.items()}\n",
    "        elif model_to_use==\"MODIFIED_UNIFAC\":\n",
    "            subgroups_example=UNIFAC_group_assignment_DDBST(CAS=cas_to_use, model=\"MODIFIED_UNIFAC\")\n",
    "            subgroups_named={str(DOUFSG[idx])[1:-1]: count for idx, count in subgroups_example.items()}\n",
    "        elif model_to_use==\"PSRK\":\n",
    "            subgroups_example=UNIFAC_group_assignment_DDBST(CAS=cas_to_use, model=\"PSRK\")\n",
    "            subgroups_named={str(PSRKSG[idx])[1:-1]: count for idx, count in subgroups_example.items()}\n",
    "        else:\n",
    "            raise ValueError(\"invalid model to use. Use 'UNIFAC', 'MODIFIED_UNIFAC' or 'PSRK'\")\n",
    "        properties.append(subgroups_named)\n",
    "        components_properties.append(properties)\n",
    "    return components_properties\n",
    "\n"
   ]
  },
  {
   "cell_type": "markdown",
   "id": "c701f038",
   "metadata": {},
   "source": [
    "## Components setup\n",
    "### This function recieves the properties obtained from the previous function to define the components as the phasepy object"
   ]
  },
  {
   "cell_type": "code",
   "execution_count": 4,
   "id": "14b303dd",
   "metadata": {},
   "outputs": [],
   "source": [
    "#Now that we have the functions to facilitate obtaining the properties needed to define the liquid-liquid equilibrium, we can start defining our system\n",
    "def set_components(components,components_properties):\n",
    "    mixtures_to_use=[]\n",
    "    for i in range(len(components)):\n",
    "        component_to_add=component(name=components[i],Tc=components_properties[i][0],Pc=components_properties[i][1],Zc=components_properties[i][2],Vc=components_properties[i][3],w=components_properties[i][4],GC=components_properties[i][5])\n",
    "        mixtures_to_use.append(component_to_add)\n",
    "    return mixtures_to_use"
   ]
  },
  {
   "cell_type": "markdown",
   "id": "1e1b1681",
   "metadata": {},
   "source": [
    "## Example\n",
    "### The following line of code shows how to setup a system, it is important to note that one must verify if all components to evaluate have the subgroups fragmentation in the databank, since you will need to insert it's subgroups manually if chemical subgroup fragmentation isn't available"
   ]
  },
  {
   "cell_type": "code",
   "execution_count": 11,
   "id": "bdf07d32",
   "metadata": {},
   "outputs": [],
   "source": [
    "#Now we will define our mixture\n",
    "#specific example where hydrogen peroxide's subgroups are not avilable in the databank\n",
    "for j in range(len(components)):\n",
    "    components_to_evaluate=components[j]\n",
    "    components_initial_values_to_evaluate=components_initial_values[j]\n",
    "    experiment_molar_fractions=get_molar_fractions_zi(components_to_evaluate,components_initial_values_to_evaluate,T,P)\n",
    "    component_properties=get_components_properties_alternative(components_to_evaluate,T,P,\"MODIFIED_UNIFAC\")\n",
    "    component_properties[1][5]={'OH':2}\n",
    "    mixture_to_use=set_components(components_to_evaluate,component_properties)   \n",
    "    #now we can define the mixture using phasepy\n",
    "    mix=mixture(mixture_to_use[0],mixture_to_use[1])\n",
    "    for i in range(2,len(mixture_to_use)):\n",
    "       mix.add_component(mixture_to_use[i])\n",
    "    #now we define the unifac model to be used\n",
    "    mix.original_unifac()\n",
    "    eos=virialgamma(mix, actmodel='original_unifac')\n",
    "    T=T\n",
    "    P=P\n",
    "    Z=np.array(experiment_molar_fractions)\n",
    "    x0=np.array([0.02,0.1,0.85,0.03])\n",
    "    w0=np.array([0.05,0.2,0.35,0.4])\n",
    "    lle(x0,w0,Z,T,P,eos,full_output=True)\n",
    "\n",
    "\n"
   ]
  },
  {
   "cell_type": "code",
   "execution_count": null,
   "id": "be39e911",
   "metadata": {},
   "outputs": [],
   "source": [
    "#Now we will define our mixture\n",
    "#general example\n",
    "for j in range(len(components)):\n",
    "    components_to_evaluate=components[j]\n",
    "    components_initial_values_to_evaluate=components_initial_values[j]\n",
    "    experiment_molar_fractions=get_molar_fractions_zi(components_to_evaluate,components_initial_values_to_evaluate,T,P)\n",
    "    component_properties=get_components_properties_alternative(components_to_evaluate,T,P,\"MODIFIED_UNIFAC\")\n",
    "    try:\n",
    "       mixture_to_use=set_components(components_to_evaluate,component_properties)   \n",
    "    except Exception as e:\n",
    "       print(\"An error has ocurred, most likely due to a missing subgroup in the databank\")\n",
    "       for idx, prop in enumerate(component_properties):\n",
    "          if not prop[5]:\n",
    "             subgroup_to_add=input(f\"Insert subgroups for '{components_to_evaluate[idx]}' as a python dict\")\n",
    "             component_properties[idx][5]=eval(subgroup_to_add)\n",
    "       mixture_to_use=set_components(components_to_evaluate,component_properties)\n",
    "\n",
    "          \n",
    "    #now we can define the mixture using phasepy\n",
    "    mix=mixture(mixture_to_use[0],mixture_to_use[1])\n",
    "    for i in range(2,len(mixture_to_use)):\n",
    "       mix.add_component(mixture_to_use[i])\n",
    "    #now we define the unifac model to be used\n",
    "    mix.original_unifac()\n",
    "    eos=virialgamma(mix, actmodel='unifac')\n",
    "    T=T\n",
    "    P=P\n",
    "    Z=np.array(experiment_molar_fractions)\n",
    "    x0=np.array([0.02,0.1,0.85,0.03])\n",
    "    w0=np.array([0.05,0.2,0.35,0.4])\n",
    "    lle(x0,w0,Z,T,P,eos,full_output=True)"
   ]
  },
  {
   "cell_type": "markdown",
   "id": "2e9f2d02",
   "metadata": {},
   "source": [
    "## Extra conversion\n",
    "### Phasepy will return the molar fractions for each component in each phase, if you desire to evaluate mass fractions instead, you can use the following function"
   ]
  },
  {
   "cell_type": "code",
   "execution_count": 5,
   "id": "bdf614b4",
   "metadata": {},
   "outputs": [],
   "source": [
    "def molar_fraction_to_mass_fraction(components,molar_fractions,T,P):\n",
    "    #this function assumes a calculus base of 1 mole of the mixture\n",
    "    components_mass=[]\n",
    "    for i in range(len(components)):\n",
    "        component=Chemical(components[i],T=T,P=P*100000)  #convert pressure to Pa for chemical\n",
    "        component_molar_mass=component.MW\n",
    "        component_mass=molar_fractions[i]*component_molar_mass\n",
    "        components_mass.append(component_mass)\n",
    "    total_mass=sum(components_mass)\n",
    "    mass_fractions=[mass/total_mass for mass in components_mass]\n",
    "    return mass_fractions\n",
    "        "
   ]
  },
  {
   "cell_type": "markdown",
   "id": "d5a63318",
   "metadata": {},
   "source": [
    "## Example"
   ]
  },
  {
   "cell_type": "code",
   "execution_count": 12,
   "id": "024f5435",
   "metadata": {},
   "outputs": [
    {
     "name": "stdout",
     "output_type": "stream",
     "text": [
      "[0.09845519813479246, 0.2216969081999439, 0.6589495525424633, 0.020898341122800174]\n",
      "[0.04320909796149819, 0.003097300059743869, 0.015331369996393883, 0.938362231982364]\n"
     ]
    }
   ],
   "source": [
    "aquous_phase=molar_fraction_to_mass_fraction(components[0],[0.03648281, 0.14503408, 0.81393171, 0.0045514],T,P)\n",
    "organic_phase=molar_fraction_to_mass_fraction(components[0],[0.0663435 , 0.0083959 , 0.07846759, 0.846793],T,P)\n",
    "print(aquous_phase)\n",
    "print(organic_phase)"
   ]
  },
  {
   "cell_type": "markdown",
   "id": "2042466b",
   "metadata": {},
   "source": [
    "## Equilibrium constants\n",
    "### When working with a reactive system, one can obtain the equilibrium constant, which is defined as the state in which  the thermodinamic equilibrium is reached, in other words, when the Gibbs energy of reaction equals to 0.\n",
    "### In order to obtain this constant, one can use the following formula\n",
    "$$\n",
    "K_a=\\prod a_i^{\\nu_i}\n",
    "$$\n",
    "### Where $a_i$ corresponds to the component's activity and $\\nu_i$ corresponds to the stechiometric coefficient of the component in the reaction\n",
    "### It is important to note that one must determine in which phase the reaction ocurrs, since activity is given by the following formula\n",
    "$$\n",
    "a_i=x_i\\gamma_i\n",
    "$$\n",
    "### Where $x_i$ corresponds to the molar fraction and $\\gamma_i$ corresponds to the activity coefficient of i"
   ]
  },
  {
   "cell_type": "markdown",
   "id": "fc5bd611",
   "metadata": {},
   "source": [
    "## Activity coefficients\n",
    "### The following function calculates the activity coefficients of all components present in the liquid-liquid equilibrium system\n",
    "### It requires the molar fractions, which should be the ones where the reaction is ocurring, the chemical subgroups of each species and which thermodinamic model you want to use\n",
    "### Tip: read the thermo documentation linked above if you wish to know what each databank contains"
   ]
  },
  {
   "cell_type": "code",
   "execution_count": 6,
   "id": "c5bec95b",
   "metadata": {},
   "outputs": [],
   "source": [
    "#this is the most crucial function of the code, it uses the thermo library to obtain the chemical subgroups present in each component and then uses the UNIFAC model of ones choosing to calculate the activity coefficients of each component in each experiment\n",
    "def get_activity_coefficients(components_present,molar_fractions,chemical_subgroups,T,P,model_to_use):\n",
    "    #This function will return a list of activity coefficients for each component in each experiment\n",
    "    activity_coefficients=[]\n",
    "    #first we must define the chemical subgroups of every component\n",
    "    #now that we have the chemical subgroups of each component and the molar fractions of each component in each experiment, we can get the activity coefficients for each one\n",
    "    if model_to_use==\"UNIFAC\":\n",
    "        model=UNIFAC.from_subgroups(T=T,xs=molar_fractions,chemgroups=chemical_subgroups,subgroups=UFSG,interaction_data=UFIP,version=0)\n",
    "    elif model_to_use==\"MODIFIED_UNIFAC\":\n",
    "        model=UNIFAC.from_subgroups(T=T,xs=molar_fractions,chemgroups=chemical_subgroups,subgroups=DOUFSG,interaction_data=DOUFIP2016,version=1)\n",
    "    elif model_to_use==\"PSRK\":\n",
    "        model=UNIFAC.from_subgroups(T=T,xs=molar_fractions,chemgroups=chemical_subgroups,subgroups=PSRKSG,interaction_data=PSRKIP,version=2)\n",
    "    else:\n",
    "        raise ValueError(\"Model not recognized, please use 'UNIFAC','MODIFIED_UNIFAC' OR 'PSRK'\")\n",
    "           \n",
    "    activity_coeffs=model.gammas()\n",
    "        #we append the activity coefficients of each component of the experiment in the list\n",
    "    activity_coefficients.append(activity_coeffs)  #we append the experiment number and the corresponding activity coefficients of each component\n",
    "    return activity_coefficients"
   ]
  },
  {
   "cell_type": "code",
   "execution_count": 7,
   "id": "0fce156d",
   "metadata": {},
   "outputs": [],
   "source": [
    "def calculate_equilibrium_constant(stech_coeffs,molar_fracs,activity_coeffs):\n",
    "    #this function will create a list of equilibrium constants for each reaction\n",
    "    eq_constants=[]\n",
    "    #this function will assume that you hand in the stechiometry coeffs, the activity coeffs and the molar fractions in order\n",
    "    for i in range(len(stech_coeffs)):\n",
    "        k_values=[]\n",
    "        for j in range(len(stech_coeffs[i])):\n",
    "            component_activity=(molar_fracs[i][j]*activity_coeffs[i][j])**stech_coeffs[i][j]\n",
    "            k_values.append(component_activity)\n",
    "        eq_constants.append(math.prod(k_values))\n",
    "    return eq_constants"
   ]
  },
  {
   "cell_type": "markdown",
   "id": "5df1f728",
   "metadata": {},
   "source": [
    "## Example\n",
    "### The following code shows the basic order one can follow to obtain the equilibrium constant, where the main dificulty comes from needing to convert the subgroup names to their corresponding indexes to calculate the activity coefficients"
   ]
  },
  {
   "cell_type": "code",
   "execution_count": 14,
   "id": "5d95f9f5",
   "metadata": {},
   "outputs": [
    {
     "name": "stdout",
     "output_type": "stream",
     "text": [
      "[{1: 1, 42: 1}, {14: 2}, {16: 1}, {1: 1, 18: 1, 100: 1}, {1: 4, 3: 1, 26: 1}]\n",
      "[[0.4921697440493018, 1.4163471077638106, 0.7440804038300262, 0.9512423076071421, 9.448110304077035]]\n",
      "[729.1311153900114]\n"
     ]
    }
   ],
   "source": [
    "#Now to finalize, we will calculate the equilibrium constant of each system\n",
    "#we will follow the basic formula to obtain equilibrium constants, where activity coefficients, stechiometric coefficients and molar fractions are needed\n",
    "all_components_present=['acetic acid','hydrogen peroxide','water','peracetic acid','diisopropyl ether']\n",
    "stechiometric_coeffs=[-1,-1,1,1]    #stechiometric coeffs that correspond to each reaction\n",
    "molar_fractions=[0.0139,0.0187,0.2668,0.6996,0.001]\n",
    "component_properties=get_components_properties_alternative(all_components_present,T,P,\"MODIFIED_UNIFAC\")\n",
    "component_properties[1][5]={'OH':2}\n",
    "component_properties[3][5]={'CH3':1,'CH3CO':1,'C2H5O2':1}\n",
    "subgroups=[]\n",
    "for i in range(len(component_properties)):\n",
    "    subgroups.append(component_properties[i][5])\n",
    "subgroup_dict = UFSG        #we obtain the subgroup dictionary from the UNIFAC model\n",
    "name_to_index = {str(v)[1:-1]: k for k, v in subgroup_dict.items()}  #subgroup_dict.items() will give us the index of each subgroup, where we then create a dict with the index and subgroup name of each component in the UNIFAC databank, where [1:-1] is just used to remove the < and > symbols from the subgroup names\n",
    "indexed_subgroups = []\n",
    "for group_dict in subgroups:       #for each subgroup present in the component properties\n",
    "    indexed_group_dict = {}\n",
    "    for group_name, count in group_dict.items():    #for each pair of subgroup name and count\n",
    "        if group_name in name_to_index:             # f the subgroup name is present in the UNIFAC databank\n",
    "            index = name_to_index[group_name]       # obtain the index of the subgroup in the databank\n",
    "            indexed_group_dict[index] = count       #obtain the ammount of subgroups present in the component\n",
    "        else:\n",
    "            raise ValueError(f\"Group name '{group_name}' not found in the subgroup dictionary.\")\n",
    "    indexed_subgroups.append(indexed_group_dict)\n",
    "print(indexed_subgroups)\n",
    "activity_coeffs=get_activity_coefficients(all_components_present,molar_fractions,indexed_subgroups,T,P,'UNIFAC')\n",
    "print(activity_coeffs)\n",
    "molar_fractions=[molar_fractions]\n",
    "stechiometric_coeffs=[stechiometric_coeffs]\n",
    "equilibrium_activities=calculate_equilibrium_constant(stechiometric_coeffs,molar_fractions,activity_coeffs)\n",
    "print(equilibrium_activities)        \n",
    "\n"
   ]
  },
  {
   "cell_type": "markdown",
   "id": "e7a69672",
   "metadata": {},
   "source": [
    "## Plotting\n",
    "### The following line of code is to show how to plot the molar distribution of a component in the two phases, along with a simple way to tabulate important values, such as the molar fractions, activity coefficients and equilibrium constants"
   ]
  },
  {
   "cell_type": "code",
   "execution_count": 26,
   "id": "98184b72",
   "metadata": {},
   "outputs": [
    {
     "name": "stderr",
     "output_type": "stream",
     "text": [
      "C:\\Users\\esteb\\AppData\\Local\\Temp\\ipykernel_2220\\1363455399.py:52: UserWarning: Attempt to set non-positive ylim on a log-scaled axis will be ignored.\n",
      "  ax.set_ylim(bottom=0)  # Make sure y axis starts at zero\n"
     ]
    },
    {
     "data": {
      "image/png": "[encoded data removed]",
      "text/plain": [
       "<Figure size 1200x600 with 2 Axes>"
      ]
     },
     "metadata": {},
     "output_type": "display_data"
    }
   ],
   "source": [
    "#First we will plot the molar fractions of a product of interest under different substrate molar fractions\n",
    "components=[['acetic acid','hydrogen peroxide','water','heptane','peracetic acid'],['acetic acid','hydrogen peroxide','water','Diisopropyl ether','peracetic acid']]\n",
    "global_molar_fractions=[[[0.02,0.0028,0.193,0.782,0.0022],[0.0192,0.0025,0.1932,0.782,0.003],[0.0194,0.0025,0.1933,0.782,0.0028]],[[0.0188,0.026,0.1636,0.7889,0.0027],[0.0172,0.0288,0.1644,0.7855,0.0042],[0.0173,0.0119,0.1755,0.7911,0.0042]]]\n",
    "experimental_mass_fractions_organic=[[1.4*10**(-5),2.1*10**(-5),2.5*10**(-5)],[1.59*10**(-3),2.18*10**(-3),2.69*10**(-3)]]\n",
    "experimental_mass_fractions_aqueous=[[0.0311,0.0391,0.0356],[0.0075,0.0182,0.0207]]\n",
    "T=30+273.15   #temperature in Kelvin\n",
    "P=1.01325     #pressure in bar\n",
    "ncols=2         #number of columns for the subplots\n",
    "nrows=1  #number of rows for the subplot\n",
    "fig, axs = plt.subplots(nrows, ncols, figsize=(6*ncols, 6*nrows), sharex=True, sharey=True)  #we create the figure and subplots, defining it's dimensions and in this case the x and y axes will be shared across all subplots to compare them\n",
    "axs = axs.flatten()   #we flatten the axs array to make it easier to iterate trhough\n",
    "for j in range(len(components)):\n",
    "    components_to_evaluate=components[j]\n",
    "    experiment_fraction_organic=[]\n",
    "    experiment_fraction_aqueous=[]\n",
    "    for i in range(len(global_molar_fractions[j])):\n",
    "        components_molar_fractions_to_use=global_molar_fractions[j][i]\n",
    "        component_properties=get_components_properties_alternative(components_to_evaluate,T,P,\"MODIFIED_UNIFAC\")\n",
    "        component_properties[1][5]={'OH':2}\n",
    "        component_properties[4][5]={'CH3':1,'CH3CO':1,'C2H5O2':1}\n",
    "        mixture_to_use=set_components(components_to_evaluate,component_properties)   \n",
    "        #now we can define the mixture using phasepy\n",
    "        mix=mixture(mixture_to_use[0],mixture_to_use[1])\n",
    "        for s in range(2,len(mixture_to_use)):\n",
    "            mix.add_component(mixture_to_use[s])\n",
    "        #now we define the unifac model to be used\n",
    "        mix.original_unifac()\n",
    "        eos=virialgamma(mix, actmodel='original_unifac')\n",
    "        T=T\n",
    "        P=P\n",
    "        Z=np.array(components_molar_fractions_to_use)\n",
    "        x0=np.array([0.02,0.1,0.85,0.03,0.0005])\n",
    "        w0=np.array([0.05,0.2,0.35,0.4,0.0005])\n",
    "        test=lle(x0,w0,Z,T,P,eos,full_output=True)\n",
    "        phase_molar_fractions=test['X']\n",
    "        aqueous_phase_molar_fractions=phase_molar_fractions[0]\n",
    "        organic_phase_molar_fractions=phase_molar_fractions[1]\n",
    "        aqueous_mass_fractions=molar_fraction_to_mass_fraction(components_to_evaluate,aqueous_phase_molar_fractions,T,P)\n",
    "        organic_mass_fractions=molar_fraction_to_mass_fraction(components_to_evaluate,organic_phase_molar_fractions,T,P)\n",
    "        experiment_fraction_organic.append(organic_mass_fractions[4])  #we append the mass fraction of the product of interest\n",
    "        experiment_fraction_aqueous.append(aqueous_mass_fractions[4])   #we append the mass fraction of the product of interest in the aqueous phase\n",
    "    molar_fractions_to_evaluate=[]\n",
    "    for k in range(len(global_molar_fractions[j])):\n",
    "        molar_fractions_to_evaluate.append(global_molar_fractions[j][k][4])\n",
    "    ax=axs[j]      #we determine the current axis to plot\n",
    "    ax.scatter(molar_fractions_to_evaluate,experiment_fraction_organic, label='Predicted Organic phase',color='green')\n",
    "    ax.scatter(molar_fractions_to_evaluate,experiment_fraction_aqueous, label='Predicted Aqueous phase',color='blue',marker='x')\n",
    "    ax.scatter(molar_fractions_to_evaluate,experimental_mass_fractions_organic[j], label='Experimental Organic phase',color='red',marker='o')\n",
    "    ax.scatter(molar_fractions_to_evaluate,experimental_mass_fractions_aqueous[j], label='Experimental Aqueous phase',color='purple',marker='s')\n",
    "    ax.grid(True, linestyle='--', alpha=0.6)\n",
    "    ax.set_xlim(min(molar_fractions_to_evaluate)*0.95, max(molar_fractions_to_evaluate)*1.05)\n",
    "    ax.set_ylim(bottom=0)  # Make sure y axis starts at zero \n",
    "    ax.set_yscale('log')\n",
    "    ax.set_xlabel(components[j][4]+\"Global molar fraction\")\n",
    "    ax.set_ylabel(\"mass fractions\")\n",
    "    ax.set_title(\"Solvent used: \"+components[j][3])\n",
    "    ax.legend(loc='upper left', bbox_to_anchor=(1, 1))   #we add the legend to identify which is the predicted and experimental data\n",
    "    ax.grid(True)\n",
    "fig.suptitle(\"Mass Fractions of Peracetic Acid in Organic and Aqueous Phases vs. Global Molar Fraction\", fontsize=16)\n",
    "plt.tight_layout()\n",
    "plt.show()  #we show the plot\n",
    "\n",
    "    "
   ]
  },
  {
   "cell_type": "markdown",
   "id": "eb73951c",
   "metadata": {},
   "source": [
    "## Tabulate example"
   ]
  },
  {
   "cell_type": "code",
   "execution_count": 22,
   "id": "a95ca912",
   "metadata": {},
   "outputs": [],
   "source": [
    "def print_properties_table(components_to_tabulate,global_molar_fractions,aqueous_phase_mf,organic_phase_mf,activity_coeffs,equilibrium_constant):\n",
    "    comp_col_width = 27\n",
    "    zi_col_width = 27\n",
    "    aqu_frac_col_width = 27\n",
    "    org_frac_col_width = 27\n",
    "    gamma_col_width = 27\n",
    "\n",
    "\n",
    "    print(f\"\\nMixture: {', '.join(components_to_tabulate)} (Equilibrium constant: {equilibrium_constant:.3f})\")\n",
    "    print(f\"| {'Component':^{comp_col_width}} | {'Z_i':^{zi_col_width}} | {'Aqueous phase molar fraction':^{aqu_frac_col_width}} | {'Organic phase molar fraction':^{org_frac_col_width}} | {'Global activity coefficient':^{gamma_col_width}} |\")\n",
    "    print(\"|---------------------------|---------------------------|---------------------------|---------------------------|---------------------------|\")\n",
    "\n",
    "    number_of_components = len(components_to_tabulate)\n",
    "    for i in range(number_of_components):\n",
    "        component_to_evaluate =components_to_tabulate[i]\n",
    "        global_molar_fraction,aqueous_phase_molar_fraction,organic_phase_molar_fraction,activity_coeff=global_molar_fractions[i],aqueous_phase_mf[i],organic_phase_mf[i],activity_coeffs[i]\n",
    "        # All numbers are right-aligned, use the same width as the columns\n",
    "        print(f\"| {component_to_evaluate:>{comp_col_width}} | {global_molar_fraction:>{zi_col_width}.3f} | {aqueous_phase_molar_fraction:>{aqu_frac_col_width}.3f} | {organic_phase_molar_fraction:>{org_frac_col_width}.3f} | {activity_coeff:>{gamma_col_width}.3f} |\")\n",
    "\n",
    "    print(\"|---------------------------|---------------------------|---------------------------|---------------------------|---------------------------|\")\n"
   ]
  },
  {
   "cell_type": "code",
   "execution_count": 23,
   "id": "b73cb3ce",
   "metadata": {},
   "outputs": [
    {
     "name": "stdout",
     "output_type": "stream",
     "text": [
      "\n",
      "Mixture: acetic acid, hydrogen peroxide, water, peracetic acid, diisopropyl ether (Equilibrium constant: 0.215)\n",
      "|          Component          |             Z_i             | Aqueous phase molar fraction | Organic phase molar fraction | Global activity coefficient |\n",
      "|---------------------------|---------------------------|---------------------------|---------------------------|---------------------------|\n",
      "|                 acetic acid |                       0.042 |                       0.037 |                       0.064 |                       0.879 |\n",
      "|           hydrogen peroxide |                       0.117 |                       0.144 |                       0.009 |                       1.168 |\n",
      "|                       water |                       0.665 |                       0.808 |                       0.085 |                       1.463 |\n",
      "|              peracetic acid |                       0.006 |                       0.006 |                       0.009 |                       0.176 |\n",
      "|           diisopropyl ether |                       0.169 |                       0.005 |                       0.832 |                      13.928 |\n",
      "|---------------------------|---------------------------|---------------------------|---------------------------|---------------------------|\n"
     ]
    }
   ],
   "source": [
    "#Graphs aren't the best option to visualize the results of this predictions, so now we will create a simple code that will print the results in a table format, detailing the molar fraction in each phase, the activity coefficients and the equilibrium constant\n",
    "all_components_present=['acetic acid','hydrogen peroxide','water','peracetic acid','diisopropyl ether']\n",
    "components_global_masses=[[2.6123,'mass'],[4.125,'mass'],[12.375,'mass'],[0.5,'mass'],[17.8883,'mass']]\n",
    "stechiometric_coeffs=[-1,-1,1,1]    #stechiometric coeffs that correspond to each reaction\n",
    "T=30+273.15   #temperature in Kelvin\n",
    "P=1.01325     #pressure in bar\n",
    "global_molar_fractions=get_molar_fractions_zi(all_components_present,components_global_masses,T,P)\n",
    "component_properties=get_components_properties_alternative(all_components_present,T,P,\"MODIFIED_UNIFAC\")\n",
    "component_properties[1][5]={'OH':2}\n",
    "component_properties[3][5]={'CH3':1,'CH3CO':1,'C2H5O2':1}\n",
    "mixture_to_use=set_components(all_components_present,component_properties)   \n",
    "#now we can define the mixture using phasepy\n",
    "mix=mixture(mixture_to_use[0],mixture_to_use[1])\n",
    "for s in range(2,len(mixture_to_use)):\n",
    "    mix.add_component(mixture_to_use[s])\n",
    "#now we define the unifac model to be used\n",
    "mix.original_unifac()\n",
    "eos=virialgamma(mix, actmodel='original_unifac')\n",
    "T=T\n",
    "P=P\n",
    "Z=np.array(global_molar_fractions)\n",
    "x0=np.array([0.02,0.1,0.85,0.03,0.0005])\n",
    "w0=np.array([0.05,0.2,0.35,0.4,0.0005])\n",
    "test=lle(x0,w0,Z,T,P,eos,full_output=True)\n",
    "phase_molar_fractions=test['X']\n",
    "aqueous_phase_molar_fractions=phase_molar_fractions[0]\n",
    "organic_phase_molar_fractions=phase_molar_fractions[1]\n",
    "subgroups=[]\n",
    "for i in range(len(component_properties)):\n",
    "    subgroups.append(component_properties[i][5])\n",
    "subgroup_dict = UFSG        #we obtain the subgroup dictionary from the UNIFAC model\n",
    "name_to_index = {str(v)[1:-1]: k for k, v in subgroup_dict.items()}  #subgroup_dict.items() will give us the index of each subgroup, where we then create a dict with the index and subgroup name of each component in the UNIFAC databank, where [1:-1] is just used to remove the < and > symbols from the subgroup names\n",
    "indexed_subgroups = []\n",
    "for group_dict in subgroups:       #for each subgroup present in the component properties\n",
    "    indexed_group_dict = {}\n",
    "    for group_name, count in group_dict.items():    #for each pair of subgroup name and count\n",
    "        if group_name in name_to_index:             # f the subgroup name is present in the UNIFAC databank\n",
    "            index = name_to_index[group_name]       # obtain the index of the subgroup in the databank\n",
    "            indexed_group_dict[index] = count       #obtain the ammount of subgroups present in the component\n",
    "        else:\n",
    "            raise ValueError(f\"Group name '{group_name}' not found in the subgroup dictionary.\")\n",
    "    indexed_subgroups.append(indexed_group_dict)\n",
    "activity_coeffs=get_activity_coefficients(all_components_present,global_molar_fractions,indexed_subgroups,T,P,'UNIFAC')\n",
    "stechiometric_coeffs=[stechiometric_coeffs]\n",
    "global_molar_fractions=[global_molar_fractions]\n",
    "equilibrium_constant=calculate_equilibrium_constant(stechiometric_coeffs,global_molar_fractions,activity_coeffs)\n",
    "print_properties_table(all_components_present,global_molar_fractions[0],aqueous_phase_molar_fractions,organic_phase_molar_fractions,activity_coeffs[0],equilibrium_constant[0])\n",
    "\n"
   ]
  }
 ],
 "metadata": {
  "kernelspec": {
   "display_name": "Python 3",
   "language": "python",
   "name": "python3"
  },
  "language_info": {
   "codemirror_mode": {
    "name": "ipython",
    "version": 3
   },
   "file_extension": ".py",
   "mimetype": "text/x-python",
   "name": "python",
   "nbconvert_exporter": "python",
   "pygments_lexer": "ipython3",
   "version": "3.11.4"
  }
 },
 "nbformat": 4,
 "nbformat_minor": 5
}
