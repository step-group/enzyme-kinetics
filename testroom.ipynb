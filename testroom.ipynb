{
 "cells": [
  {
   "cell_type": "code",
   "execution_count": 1,
   "id": "6e952d70",
   "metadata": {},
   "outputs": [
    {
     "name": "stdout",
     "output_type": "stream",
     "text": [
      "None\n"
     ]
    }
   ],
   "source": [
    "from pubchempy import get_compounds\n",
    "\n",
    "compounds = get_compounds('ethanol', 'name')\n",
    "smiles = compounds[0].canonical_smiles\n",
    "print(smiles)  # Outputs: CCO"
   ]
  },
  {
   "cell_type": "code",
   "execution_count": 1,
   "id": "00136c3d",
   "metadata": {},
   "outputs": [
    {
     "name": "stdout",
     "output_type": "stream",
     "text": [
      "Set parameter Username\n",
      "Academic license - for non-commercial use only - expires 2025-11-19\n",
      "Set parameter Username\n",
      "Academic license - for non-commercial use only - expires 2025-11-19\n",
      "Set parameter Username\n",
      "Academic license - for non-commercial use only - expires 2025-11-19\n",
      "Set parameter Username\n",
      "Academic license - for non-commercial use only - expires 2025-11-19\n",
      "Set parameter Username\n",
      "Academic license - for non-commercial use only - expires 2025-11-19\n",
      "Set parameter Username\n",
      "Academic license - for non-commercial use only - expires 2025-11-19\n",
      "<ugropy.groups.Groups object at 0x0000022993F5A950>\n"
     ]
    }
   ],
   "source": [
    "#first we import all the necessary libraries\n",
    "import kinetics      #this one has no use for now, but it might be used in future updates\n",
    "import numpy as np\n",
    "import matplotlib.pyplot as plt\n",
    "from scipy.stats import norm\n",
    "from scipy.optimize import least_squares\n",
    "from thermo.unifac import UNIFAC, UFSG, UFIP\n",
    "from thermo.chemical import Chemical\n",
    "from ugropy import Groups\n",
    "component_subgroups_names = Groups('5-methyl-2-hexanone')\n",
    "print(component_subgroups_names)"
   ]
  },
  {
   "cell_type": "code",
   "execution_count": 4,
   "id": "f039c44d",
   "metadata": {},
   "outputs": [
    {
     "name": "stdout",
     "output_type": "stream",
     "text": [
      "γ\n"
     ]
    }
   ],
   "source": [
    "print('\\u03B3')"
   ]
  },
  {
   "cell_type": "code",
   "execution_count": null,
   "id": "7e7fb24a",
   "metadata": {},
   "outputs": [
    {
     "name": "stdout",
     "output_type": "stream",
     "text": [
      "1\n"
     ]
    }
   ],
   "source": []
  },
  {
   "cell_type": "code",
   "execution_count": 2,
   "id": "bd0ae1bf",
   "metadata": {},
   "outputs": [
    {
     "name": "stdout",
     "output_type": "stream",
     "text": [
      "CCO\n"
     ]
    }
   ],
   "source": [
    "import requests\n",
    "\n",
    "name = \"ethanol\"\n",
    "url = f\"https://cactus.nci.nih.gov/chemical/structure/{name}/smiles\"\n",
    "response = requests.get(url)\n",
    "print(response.text.strip())  # Outputs: CCO"
   ]
  },
  {
   "cell_type": "code",
   "execution_count": null,
   "id": "d6256f2d",
   "metadata": {},
   "outputs": [
    {
     "ename": "TypeError",
     "evalue": "UNIFAC.__init__() missing 5 required keyword-only arguments: 'xs', 'rs', 'qs', 'Qs', and 'vs'",
     "output_type": "error",
     "traceback": [
      "\u001b[1;31m---------------------------------------------------------------------------\u001b[0m",
      "\u001b[1;31mTypeError\u001b[0m                                 Traceback (most recent call last)",
      "Cell \u001b[1;32mIn[16], line 9\u001b[0m\n\u001b[0;32m      7\u001b[0m mol \u001b[38;5;241m=\u001b[39m Chem\u001b[38;5;241m.\u001b[39mMolFromSmiles(smiles)\n\u001b[0;32m      8\u001b[0m \u001b[38;5;66;03m# Create a UNIFAC object with Dortmund model\u001b[39;00m\n\u001b[1;32m----> 9\u001b[0m unifac \u001b[38;5;241m=\u001b[39m \u001b[43mUNIFAC\u001b[49m\u001b[43m(\u001b[49m\u001b[43mversion\u001b[49m\u001b[38;5;241;43m=\u001b[39;49m\u001b[38;5;241;43m1\u001b[39;49m\u001b[43m)\u001b[49m\n",
      "\u001b[1;31mTypeError\u001b[0m: UNIFAC.__init__() missing 5 required keyword-only arguments: 'xs', 'rs', 'qs', 'Qs', and 'vs'"
     ]
    }
   ],
   "source": [
    "from thermo.unifac import UNIFAC\n",
    "from rdkit import Chem\n",
    "# Your SMILES string\n",
    "smiles = \"CCO\"  # Example: Ethanol\n",
    "\n",
    "# Convert SMILES to an RDKit molecule\n",
    "mol = Chem.MolFromSmiles(smiles)\n",
    "# Create a UNIFAC object with Dortmund model\n"
   ]
  },
  {
   "cell_type": "code",
   "execution_count": 4,
   "id": "7aa2cf5f",
   "metadata": {},
   "outputs": [
    {
     "name": "stdout",
     "output_type": "stream",
     "text": [
      "{'CH3': 1, 'CH2': 14, 'CH=CH': 1, 'COOH': 1}\n"
     ]
    }
   ],
   "source": [
    "component_name=\"oleic acid\"\n",
    "component_subgroups_names = Groups(component_name)\n",
    "sub = component_subgroups_names.unifac.subgroups\n",
    "print(sub)"
   ]
  }
 ],
 "metadata": {
  "kernelspec": {
   "display_name": "Python 3",
   "language": "python",
   "name": "python3"
  },
  "language_info": {
   "codemirror_mode": {
    "name": "ipython",
    "version": 3
   },
   "file_extension": ".py",
   "mimetype": "text/x-python",
   "name": "python",
   "nbconvert_exporter": "python",
   "pygments_lexer": "ipython3",
   "version": "3.11.4"
  }
 },
 "nbformat": 4,
 "nbformat_minor": 5
}
