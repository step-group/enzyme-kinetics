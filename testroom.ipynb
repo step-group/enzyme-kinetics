{
 "cells": [
  {
   "cell_type": "code",
   "execution_count": 1,
   "id": "6e952d70",
   "metadata": {},
   "outputs": [
    {
     "name": "stdout",
     "output_type": "stream",
     "text": [
      "None\n"
     ]
    }
   ],
   "source": [
    "from pubchempy import get_compounds\n",
    "\n",
    "compounds = get_compounds('ethanol', 'name')\n",
    "smiles = compounds[0].canonical_smiles\n",
    "print(smiles)  # Outputs: CCO"
   ]
  },
  {
   "cell_type": "code",
   "execution_count": 9,
   "id": "de9aa59a",
   "metadata": {},
   "outputs": [
    {
     "ename": "OperationalError",
     "evalue": "no such table: DDBST",
     "output_type": "error",
     "traceback": [
      "\u001b[1;31m---------------------------------------------------------------------------\u001b[0m",
      "\u001b[1;31mOperationalError\u001b[0m                          Traceback (most recent call last)",
      "Cell \u001b[1;32mIn[9], line 4\u001b[0m\n\u001b[0;32m      2\u001b[0m \u001b[38;5;28;01mfrom\u001b[39;00m \u001b[38;5;21;01mthermo\u001b[39;00m\u001b[38;5;21;01m.\u001b[39;00m\u001b[38;5;21;01munifac\u001b[39;00m \u001b[38;5;28;01mimport\u001b[39;00m DOUFSG, DOUFIP2016\n\u001b[0;32m      3\u001b[0m \u001b[38;5;66;03m# Load constants and properties\u001b[39;00m\n\u001b[1;32m----> 4\u001b[0m constants, properties \u001b[38;5;241m=\u001b[39m \u001b[43mChemicalConstantsPackage\u001b[49m\u001b[38;5;241;43m.\u001b[39;49m\u001b[43mfrom_IDs\u001b[49m\u001b[43m(\u001b[49m\u001b[43m[\u001b[49m\u001b[38;5;124;43m'\u001b[39;49m\u001b[38;5;124;43methanol\u001b[39;49m\u001b[38;5;124;43m'\u001b[39;49m\u001b[43m,\u001b[49m\u001b[43m \u001b[49m\u001b[38;5;124;43m'\u001b[39;49m\u001b[38;5;124;43mwater\u001b[39;49m\u001b[38;5;124;43m'\u001b[39;49m\u001b[43m]\u001b[49m\u001b[43m)\u001b[49m\n",
      "File \u001b[1;32mc:\\Users\\esteb\\AppData\\Local\\Programs\\Python\\Python311\\Lib\\site-packages\\thermo\\chemical_package.py:1015\u001b[0m, in \u001b[0;36mChemicalConstantsPackage.from_IDs\u001b[1;34m(IDs)\u001b[0m\n\u001b[0;32m    984\u001b[0m \u001b[38;5;129m@staticmethod\u001b[39m\n\u001b[0;32m    985\u001b[0m \u001b[38;5;28;01mdef\u001b[39;00m \u001b[38;5;21mfrom_IDs\u001b[39m(IDs):\n\u001b[0;32m    986\u001b[0m \u001b[38;5;250m    \u001b[39m\u001b[38;5;124mr\u001b[39m\u001b[38;5;124;03m'''Method to construct a new `ChemicalConstantsPackage` and\u001b[39;00m\n\u001b[0;32m    987\u001b[0m \u001b[38;5;124;03m    `PropertyCorrelationsPackage` with loaded\u001b[39;00m\n\u001b[0;32m    988\u001b[0m \u001b[38;5;124;03m    parameters from the `chemicals library <https://github.com/CalebBell/chemicals>`_,\u001b[39;00m\n\u001b[1;32m   (...)\u001b[0m\n\u001b[0;32m   1013\u001b[0m \u001b[38;5;124;03m    >>> constants, correlations = ChemicalConstantsPackage.from_IDs(IDs=['water', 'decane'])\u001b[39;00m\n\u001b[0;32m   1014\u001b[0m \u001b[38;5;124;03m    '''\u001b[39;00m\n\u001b[1;32m-> 1015\u001b[0m     \u001b[38;5;28;01mreturn\u001b[39;00m \u001b[43mChemicalConstantsPackage\u001b[49m\u001b[38;5;241;43m.\u001b[39;49m\u001b[43m_from_IDs\u001b[49m\u001b[43m(\u001b[49m\u001b[43mIDs\u001b[49m\u001b[43m,\u001b[49m\u001b[43m \u001b[49m\u001b[43mcorrelations\u001b[49m\u001b[38;5;241;43m=\u001b[39;49m\u001b[38;5;28;43;01mTrue\u001b[39;49;00m\u001b[43m)\u001b[49m\n",
      "File \u001b[1;32mc:\\Users\\esteb\\AppData\\Local\\Programs\\Python\\Python311\\Lib\\site-packages\\thermo\\chemical_package.py:1024\u001b[0m, in \u001b[0;36mChemicalConstantsPackage._from_IDs\u001b[1;34m(IDs, correlations)\u001b[0m\n\u001b[0;32m   1022\u001b[0m \u001b[38;5;129m@staticmethod\u001b[39m\n\u001b[0;32m   1023\u001b[0m \u001b[38;5;28;01mdef\u001b[39;00m \u001b[38;5;21m_from_IDs\u001b[39m(IDs, correlations\u001b[38;5;241m=\u001b[39m\u001b[38;5;28;01mFalse\u001b[39;00m):\n\u001b[1;32m-> 1024\u001b[0m     \u001b[38;5;28;01mreturn\u001b[39;00m \u001b[43m_from_IDs\u001b[49m\u001b[43m(\u001b[49m\u001b[43mIDs\u001b[49m\u001b[43m,\u001b[49m\u001b[43m \u001b[49m\u001b[43mcorrelations\u001b[49m\u001b[43m)\u001b[49m\n",
      "File \u001b[1;32mc:\\Users\\esteb\\AppData\\Local\\Programs\\Python\\Python311\\Lib\\site-packages\\thermo\\chemical_package.py:368\u001b[0m, in \u001b[0;36m_from_IDs\u001b[1;34m(IDs, correlations)\u001b[0m\n\u001b[0;32m    366\u001b[0m PSRK_groups \u001b[38;5;241m=\u001b[39m []\n\u001b[0;32m    367\u001b[0m \u001b[38;5;28;01mfor\u001b[39;00m CAS \u001b[38;5;129;01min\u001b[39;00m CASs:\n\u001b[1;32m--> 368\u001b[0m     assignment \u001b[38;5;241m=\u001b[39m \u001b[43mUNIFAC_group_assignment_DDBST\u001b[49m\u001b[43m(\u001b[49m\u001b[43mCAS\u001b[49m\u001b[43m,\u001b[49m\u001b[43m \u001b[49m\u001b[38;5;124;43m'\u001b[39;49m\u001b[38;5;124;43mUNIFAC\u001b[39;49m\u001b[38;5;124;43m'\u001b[39;49m\u001b[43m)\u001b[49m\n\u001b[0;32m    369\u001b[0m     UNIFAC_groups\u001b[38;5;241m.\u001b[39mappend(assignment)\n\u001b[0;32m    370\u001b[0m     assignment \u001b[38;5;241m=\u001b[39m UNIFAC_group_assignment_DDBST(CAS, \u001b[38;5;124m'\u001b[39m\u001b[38;5;124mMODIFIED_UNIFAC\u001b[39m\u001b[38;5;124m'\u001b[39m)\n",
      "File \u001b[1;32mc:\\Users\\esteb\\AppData\\Local\\Programs\\Python\\Python311\\Lib\\site-packages\\thermo\\unifac.py:3521\u001b[0m, in \u001b[0;36mUNIFAC_group_assignment_DDBST\u001b[1;34m(CAS, model)\u001b[0m\n\u001b[0;32m   3519\u001b[0m     init_ddbst_UNIFAC_db()\n\u001b[0;32m   3520\u001b[0m CASi \u001b[38;5;241m=\u001b[39m CAS_to_int(CAS)\n\u001b[1;32m-> 3521\u001b[0m \u001b[43mthread_local_storage\u001b[49m\u001b[38;5;241;43m.\u001b[39;49m\u001b[43mcursor\u001b[49m\u001b[38;5;241;43m.\u001b[39;49m\u001b[43mexecute\u001b[49m\u001b[43m(\u001b[49m\u001b[38;5;124;43m\"\u001b[39;49m\u001b[38;5;124;43mSELECT * FROM DDBST WHERE `index`=?\u001b[39;49m\u001b[38;5;124;43m\"\u001b[39;49m\u001b[43m,\u001b[49m\u001b[43m \u001b[49m\u001b[43m(\u001b[49m\u001b[38;5;28;43mstr\u001b[39;49m\u001b[43m(\u001b[49m\u001b[43mCASi\u001b[49m\u001b[43m)\u001b[49m\u001b[43m,\u001b[49m\u001b[43m)\u001b[49m\u001b[43m)\u001b[49m\n\u001b[0;32m   3522\u001b[0m result \u001b[38;5;241m=\u001b[39m thread_local_storage\u001b[38;5;241m.\u001b[39mcursor\u001b[38;5;241m.\u001b[39mfetchone()\n\u001b[0;32m   3523\u001b[0m \u001b[38;5;28;01mif\u001b[39;00m result \u001b[38;5;129;01mis\u001b[39;00m \u001b[38;5;28;01mNone\u001b[39;00m:\n",
      "\u001b[1;31mOperationalError\u001b[0m: no such table: DDBST"
     ]
    }
   ],
   "source": [
    "from thermo import *\n",
    "from thermo.unifac import DOUFSG, DOUFIP2016\n",
    "# Load constants and properties\n",
    "constants, properties = ChemicalConstantsPackage.from_IDs(['ethanol', 'water'])\n"
   ]
  },
  {
   "cell_type": "code",
   "execution_count": 6,
   "id": "84948680",
   "metadata": {},
   "outputs": [],
   "source": [
    "import phasepy"
   ]
  },
  {
   "cell_type": "code",
   "execution_count": 12,
   "id": "00136c3d",
   "metadata": {},
   "outputs": [
    {
     "name": "stdout",
     "output_type": "stream",
     "text": [
      "<ugropy.groups.Groups object at 0x000001346D2853D0>\n"
     ]
    }
   ],
   "source": [
    "#first we import all the necessary libraries\n",
    "import kinetics      #this one has no use for now, but it might be used in future updates\n",
    "import numpy as np\n",
    "import matplotlib.pyplot as plt\n",
    "from scipy.stats import norm\n",
    "from scipy.optimize import least_squares\n",
    "from thermo.unifac import UNIFAC, UFSG, UFIP\n",
    "from thermo.chemical import Chemical\n",
    "from ugropy import Groups\n",
    "component_subgroups_names = Groups('5-methyl-2-hexanone')\n",
    "print(component_subgroups_names)"
   ]
  },
  {
   "cell_type": "code",
   "execution_count": 46,
   "id": "15615c78",
   "metadata": {},
   "outputs": [],
   "source": [
    "from thermo.unifac import UNIFAC_group_assignment_DDBST\n",
    "from thermo.unifac import init_ddbst_UNIFAC_db\n",
    "init_ddbst_UNIFAC_db()\n",
    "import os\n",
    "\n",
    "for root, dirs, files in os.walk(os.path.expanduser(\"~\")):\n",
    "    if 'ddbst_unifac.sqlite' in files:\n",
    "        print(os.path.join(root, 'ddbst_unifac.sqlite'))\n",
    "\n"
   ]
  },
  {
   "cell_type": "code",
   "execution_count": 47,
   "id": "20c59221",
   "metadata": {},
   "outputs": [
    {
     "name": "stdout",
     "output_type": "stream",
     "text": [
      "['7722-84-1', '8007-30-5']\n",
      "7722-84-1\n"
     ]
    }
   ],
   "source": [
    "from thermo.unifac import UNIFAC_group_assignment_DDBST\n",
    "from thermo.unifac import init_ddbst_UNIFAC_db\n",
    "init_ddbst_UNIFAC_db()\n",
    "import pubchempy as pcp\n",
    "\n",
    "# Search by name, formula, or CID\n",
    "compound = pcp.get_compounds('hydrogen peroxide', 'name')[0]\n",
    "\n",
    "# Get synonyms (CAS numbers are typically included)\n",
    "synonyms = compound.synonyms\n",
    "\n",
    "# Find CAS number (CAS numbers have the format: digits-digits-digits)\n",
    "import re\n",
    "cas_pattern = r'^\\d{2,7}-\\d{2}-\\d$'\n",
    "\n",
    "cas_numbers = [syn for syn in synonyms if re.match(cas_pattern, syn)]\n",
    "print(cas_numbers)\n",
    "print(cas_numbers[0])\n",
    "\n"
   ]
  },
  {
   "cell_type": "code",
   "execution_count": null,
   "id": "081cbeef",
   "metadata": {},
   "outputs": [
    {
     "name": "stdout",
     "output_type": "stream",
     "text": [
      "SMILES for ethanol: None\n"
     ]
    }
   ],
   "source": [
    "\n"
   ]
  },
  {
   "cell_type": "code",
   "execution_count": null,
   "id": "afabc133",
   "metadata": {},
   "outputs": [
    {
     "name": "stdout",
     "output_type": "stream",
     "text": [
      "['7722-84-1', '8007-30-5']\n",
      "7722-84-1\n"
     ]
    },
    {
     "ename": "OperationalError",
     "evalue": "no such table: DDBST",
     "output_type": "error",
     "traceback": [
      "\u001b[1;31m---------------------------------------------------------------------------\u001b[0m",
      "\u001b[1;31mOperationalError\u001b[0m                          Traceback (most recent call last)",
      "Cell \u001b[1;32mIn[41], line 16\u001b[0m\n\u001b[0;32m     14\u001b[0m \u001b[38;5;28mprint\u001b[39m(cas_numbers)\n\u001b[0;32m     15\u001b[0m \u001b[38;5;28mprint\u001b[39m(cas_numbers[\u001b[38;5;241m0\u001b[39m])\n\u001b[1;32m---> 16\u001b[0m subgroups_example \u001b[38;5;241m=\u001b[39m \u001b[43mUNIFAC_group_assignment_DDBST\u001b[49m\u001b[43m(\u001b[49m\u001b[43mCAS\u001b[49m\u001b[38;5;241;43m=\u001b[39;49m\u001b[38;5;124;43m\"\u001b[39;49m\u001b[38;5;124;43m7722-84-1\u001b[39;49m\u001b[38;5;124;43m\"\u001b[39;49m\u001b[43m,\u001b[49m\u001b[43m \u001b[49m\u001b[43mmodel\u001b[49m\u001b[38;5;241;43m=\u001b[39;49m\u001b[38;5;124;43m\"\u001b[39;49m\u001b[38;5;124;43mUNIFAC\u001b[39;49m\u001b[38;5;124;43m\"\u001b[39;49m\u001b[43m)\u001b[49m\n\u001b[0;32m     17\u001b[0m \u001b[38;5;28mprint\u001b[39m(subgroups_example)\n\u001b[0;32m     18\u001b[0m subgroups_example \u001b[38;5;241m=\u001b[39m UNIFAC_group_assignment_DDBST(CAS\u001b[38;5;241m=\u001b[39m\u001b[38;5;124m\"\u001b[39m\u001b[38;5;124m14901-07-6\u001b[39m\u001b[38;5;124m\"\u001b[39m, model\u001b[38;5;241m=\u001b[39m\u001b[38;5;124m\"\u001b[39m\u001b[38;5;124mUNIFAC\u001b[39m\u001b[38;5;124m\"\u001b[39m)\n",
      "File \u001b[1;32mc:\\Users\\esteb\\AppData\\Local\\Programs\\Python\\Python311\\Lib\\site-packages\\thermo\\unifac.py:3521\u001b[0m, in \u001b[0;36mUNIFAC_group_assignment_DDBST\u001b[1;34m(CAS, model)\u001b[0m\n\u001b[0;32m   3519\u001b[0m     init_ddbst_UNIFAC_db()\n\u001b[0;32m   3520\u001b[0m CASi \u001b[38;5;241m=\u001b[39m CAS_to_int(CAS)\n\u001b[1;32m-> 3521\u001b[0m thread_local_storage\u001b[38;5;241m.\u001b[39mcursor\u001b[38;5;241m.\u001b[39mexecute(\u001b[38;5;124m\"\u001b[39m\u001b[38;5;124mSELECT * FROM DDBST WHERE `index`=?\u001b[39m\u001b[38;5;124m\"\u001b[39m, (\u001b[38;5;28mstr\u001b[39m(CASi),))\n\u001b[0;32m   3522\u001b[0m result \u001b[38;5;241m=\u001b[39m thread_local_storage\u001b[38;5;241m.\u001b[39mcursor\u001b[38;5;241m.\u001b[39mfetchone()\n\u001b[0;32m   3523\u001b[0m \u001b[38;5;28;01mif\u001b[39;00m result \u001b[38;5;129;01mis\u001b[39;00m \u001b[38;5;28;01mNone\u001b[39;00m:\n",
      "\u001b[1;31mOperationalError\u001b[0m: no such table: DDBST"
     ]
    }
   ],
   "source": [
    "import pubchempy as pcp\n",
    "\n",
    "# Search by name, formula, or CID\n",
    "compound = pcp.get_compounds('hydrogen peroxide', 'name')[0]\n",
    "\n",
    "# Get synonyms (CAS numbers are typically included)\n",
    "synonyms = compound.synonyms\n",
    "\n",
    "# Find CAS number (CAS numbers have the format: digits-digits-digits)\n",
    "import re\n",
    "cas_pattern = r'^\\d{2,7}-\\d{2}-\\d$'\n",
    "\n",
    "cas_numbers = [syn for syn in synonyms if re.match(cas_pattern, syn)]\n",
    "print(cas_numbers)\n",
    "print(cas_numbers[0])\n",
    "\n",
    "subgroups_example = UNIFAC_group_assignment_DDBST(CAS=\"14901-07-6\", model=\"UNIFAC\")\n",
    "\n",
    "# Remember that in Jupyter Notebooks the last line is automatically printed\n",
    "subgroups_example"
   ]
  },
  {
   "cell_type": "code",
   "execution_count": 4,
   "id": "f039c44d",
   "metadata": {},
   "outputs": [
    {
     "name": "stdout",
     "output_type": "stream",
     "text": [
      "γ\n"
     ]
    }
   ],
   "source": [
    "print('\\u03B3')"
   ]
  },
  {
   "cell_type": "code",
   "execution_count": 11,
   "id": "7e7fb24a",
   "metadata": {},
   "outputs": [
    {
     "name": "stdout",
     "output_type": "stream",
     "text": [
      "<ugropy.groups.Groups object at 0x000001347911C210>\n",
      "{}\n"
     ]
    }
   ],
   "source": [
    "component_subgroups_names = Groups('hydrogen peroxide')\n",
    "print(component_subgroups_names)\n",
    "sub = component_subgroups_names.unifac.subgroups\n",
    "print(sub)"
   ]
  },
  {
   "cell_type": "code",
   "execution_count": null,
   "id": "23be45b5",
   "metadata": {},
   "outputs": [
    {
     "ename": "AttributeError",
     "evalue": "'VaporPressure' object has no attribute 'Antoine_coeffs'",
     "output_type": "error",
     "traceback": [
      "\u001b[1;31m---------------------------------------------------------------------------\u001b[0m",
      "\u001b[1;31mAttributeError\u001b[0m                            Traceback (most recent call last)",
      "Cell \u001b[1;32mIn[10], line 2\u001b[0m\n\u001b[0;32m      1\u001b[0m component\u001b[38;5;241m=\u001b[39mChemical(\u001b[38;5;124m'\u001b[39m\u001b[38;5;124msodium\u001b[39m\u001b[38;5;124m'\u001b[39m)\n\u001b[1;32m----> 2\u001b[0m see\u001b[38;5;241m=\u001b[39m\u001b[43mcomponent\u001b[49m\u001b[38;5;241;43m.\u001b[39;49m\u001b[43mVaporPressure\u001b[49m\u001b[38;5;241;43m.\u001b[39;49m\u001b[43mAntoine_coeffs\u001b[49m\n\u001b[0;32m      3\u001b[0m \u001b[38;5;28mprint\u001b[39m(see)\n",
      "\u001b[1;31mAttributeError\u001b[0m: 'VaporPressure' object has no attribute 'Antoine_coeffs'"
     ]
    }
   ],
   "source": [
    "component=Chemical('')\n",
    "see=component.VaporPressure.Antoine_coeffs\n",
    "print(see)"
   ]
  },
  {
   "cell_type": "code",
   "execution_count": 2,
   "id": "bd0ae1bf",
   "metadata": {},
   "outputs": [
    {
     "name": "stdout",
     "output_type": "stream",
     "text": [
      "CCO\n"
     ]
    }
   ],
   "source": [
    "import requests\n",
    "\n",
    "name = \"ethanol\"\n",
    "url = f\"https://cactus.nci.nih.gov/chemical/structure/{name}/smiles\"\n",
    "response = requests.get(url)\n",
    "print(response.text.strip())  # Outputs: CCO"
   ]
  },
  {
   "cell_type": "code",
   "execution_count": 4,
   "id": "d6256f2d",
   "metadata": {},
   "outputs": [],
   "source": [
    "from thermo.unifac import UNIFAC\n",
    "from rdkit import Chem\n",
    "# Your SMILES string\n",
    "smiles = \"CCO\"  # Example: Ethanol\n",
    "\n",
    "# Convert SMILES to an RDKit molecule\n",
    "mol = Chem.MolFromSmiles(smiles)\n",
    "# Create a UNIFAC object with Dortmund model\n"
   ]
  },
  {
   "cell_type": "code",
   "execution_count": 4,
   "id": "7aa2cf5f",
   "metadata": {},
   "outputs": [
    {
     "name": "stdout",
     "output_type": "stream",
     "text": [
      "{'CH3': 1, 'CH2': 14, 'CH=CH': 1, 'COOH': 1}\n"
     ]
    }
   ],
   "source": [
    "component_name=\"oleic acid\"\n",
    "component_subgroups_names = Groups(component_name)\n",
    "sub = component_subgroups_names.unifac.subgroups\n",
    "print(sub)"
   ]
  }
 ],
 "metadata": {
  "kernelspec": {
   "display_name": "Python 3",
   "language": "python",
   "name": "python3"
  },
  "language_info": {
   "codemirror_mode": {
    "name": "ipython",
    "version": 3
   },
   "file_extension": ".py",
   "mimetype": "text/x-python",
   "name": "python",
   "nbconvert_exporter": "python",
   "pygments_lexer": "ipython3",
   "version": "3.11.4"
  }
 },
 "nbformat": 4,
 "nbformat_minor": 5
}
